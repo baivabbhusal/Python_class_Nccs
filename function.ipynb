{
 "cells": [
  {
   "cell_type": "markdown",
   "id": "bfbf9ea7",
   "metadata": {},
   "source": [
    "### Function\n",
    "```python\n",
    "def function_Name(parameter_a,prameters_b):\n",
    "    #function drfinition\n",
    "function_name(arguments)\n",
    "\n",
    "```"
   ]
  },
  {
   "cell_type": "code",
   "execution_count": 3,
   "id": "1dab276d",
   "metadata": {},
   "outputs": [
    {
     "name": "stdout",
     "output_type": "stream",
     "text": [
      "odd\n"
     ]
    }
   ],
   "source": [
    "def odd_even(a):\n",
    "    if(a%2==0):\n",
    "        print(\"Even\")\n",
    "    else:\n",
    "        print(\"odd\")\n",
    "odd_even(5)"
   ]
  },
  {
   "cell_type": "code",
   "execution_count": 8,
   "id": "06fa67fe",
   "metadata": {},
   "outputs": [
    {
     "name": "stdout",
     "output_type": "stream",
     "text": [
      "The addition of two numbers is 12\n"
     ]
    }
   ],
   "source": [
    "def add(a,b):\n",
    "    return a+b\n",
    "print(f'The addition of two numbers is {add(4,8)}')"
   ]
  },
  {
   "cell_type": "markdown",
   "id": "4e4abb0c",
   "metadata": {},
   "source": [
    "### Positional Arguments"
   ]
  },
  {
   "cell_type": "code",
   "execution_count": null,
   "id": "a71ddedd",
   "metadata": {},
   "outputs": [
    {
     "name": "stdout",
     "output_type": "stream",
     "text": [
      "product=60\n"
     ]
    }
   ],
   "source": [
    "def get_product(x,y,z):\n",
    "    product=x*y*z\n",
    "    print(f\"{product=}\")\n",
    "get_product(4,5,3)"
   ]
  },
  {
   "cell_type": "markdown",
   "id": "cd98e56f",
   "metadata": {},
   "source": [
    "## Keyword Argument"
   ]
  },
  {
   "cell_type": "code",
   "execution_count": 12,
   "id": "8222f3d9",
   "metadata": {},
   "outputs": [
    {
     "name": "stdout",
     "output_type": "stream",
     "text": [
      "x=4\n",
      "y=2\n",
      "z=5\n",
      "product=40\n"
     ]
    }
   ],
   "source": [
    "def get_product(x,y,z):\n",
    "    print(f\"{x=}\")\n",
    "    print(f\"{y=}\")\n",
    "    print(f\"{z=}\")\n",
    "    product=x*y*z\n",
    "    print(f\"{product=}\")\n",
    "get_product(x=4,y=2,z=5)"
   ]
  },
  {
   "cell_type": "markdown",
   "id": "37b40202",
   "metadata": {},
   "source": [
    "### Both positional and Keyword Argument"
   ]
  },
  {
   "cell_type": "code",
   "execution_count": 15,
   "id": "b83a5a64",
   "metadata": {},
   "outputs": [
    {
     "name": "stdout",
     "output_type": "stream",
     "text": [
      "product=60\n"
     ]
    }
   ],
   "source": [
    "def get_product(x,y,z):\n",
    "    product=x*y*z\n",
    "    print(f\"{product=}\")\n",
    "get_product(4,5,z=3)"
   ]
  },
  {
   "cell_type": "markdown",
   "id": "5e77e15c",
   "metadata": {},
   "source": [
    "### Default value in parameter"
   ]
  },
  {
   "cell_type": "code",
   "execution_count": 18,
   "id": "6c2d6882",
   "metadata": {},
   "outputs": [
    {
     "name": "stdout",
     "output_type": "stream",
     "text": [
      "x=2\n",
      "y=3\n",
      "z=6\n"
     ]
    }
   ],
   "source": [
    "def display(x,y,z=6):\n",
    "    print(f\"{x=}\")\n",
    "    print(f\"{y=}\")\n",
    "    print(f\"{z=}\")\n",
    "display(x=2,y=3)\n"
   ]
  },
  {
   "cell_type": "code",
   "execution_count": 19,
   "id": "7d8d5f08",
   "metadata": {},
   "outputs": [
    {
     "name": "stdout",
     "output_type": "stream",
     "text": [
      "x=2\n",
      "y=3\n",
      "z=9\n"
     ]
    }
   ],
   "source": [
    "def display(x,y,z=6):\n",
    "    print(f\"{x=}\")\n",
    "    print(f\"{y=}\")\n",
    "    print(f\"{z=}\")\n",
    "display(x=2,y=3,z=9)"
   ]
  },
  {
   "cell_type": "markdown",
   "id": "0b0df475",
   "metadata": {},
   "source": [
    "### Args and kwargs"
   ]
  },
  {
   "cell_type": "code",
   "execution_count": 24,
   "id": "2902d65f",
   "metadata": {},
   "outputs": [
    {
     "name": "stdout",
     "output_type": "stream",
     "text": [
      "(1, 3, 4)\n",
      "<class 'tuple'>\n"
     ]
    }
   ],
   "source": [
    "def dynamic_element_sum(*args):\n",
    "    print(args)\n",
    "    print(type(args))\n",
    "dynamic_element_sum(1,3,4)"
   ]
  },
  {
   "cell_type": "code",
   "execution_count": 26,
   "id": "3fa6996b",
   "metadata": {},
   "outputs": [
    {
     "name": "stdout",
     "output_type": "stream",
     "text": [
      "1\n",
      "<class 'int'>\n",
      "(3, 4, 5, 6, 7, 8)\n",
      "<class 'tuple'>\n"
     ]
    }
   ],
   "source": [
    "def dynamic_element_sum(a,*args):\n",
    "    print(a)\n",
    "    print(type(a))\n",
    "    print(args)\n",
    "    print(type(args))\n",
    "dynamic_element_sum(1,3,4,5,6,7,8)"
   ]
  },
  {
   "cell_type": "code",
   "execution_count": 29,
   "id": "195c8347",
   "metadata": {},
   "outputs": [
    {
     "name": "stdout",
     "output_type": "stream",
     "text": [
      "1 <class 'int'>\n",
      "2 <class 'int'>\n",
      "(3, 4, 5) <class 'tuple'>\n",
      "{'a': 10, 'b': 20}\n",
      "<class 'dict'>\n"
     ]
    }
   ],
   "source": [
    "def dynamic_k_element_sum(x,y,*args,**kwargs):\n",
    "    print(x,type(x))\n",
    "    print(y,type(y))\n",
    "    print(args,type(args))\n",
    "    print(kwargs)\n",
    "    print(type(kwargs))\n",
    "dynamic_k_element_sum(1,2,3,4,5,a=10,b=20)"
   ]
  },
  {
   "cell_type": "code",
   "execution_count": 35,
   "id": "34c7bd5b",
   "metadata": {},
   "outputs": [
    {
     "name": "stdout",
     "output_type": "stream",
     "text": [
      "3 is a Prime\n"
     ]
    }
   ],
   "source": [
    "#write a function to check prime number\n",
    "def prime(a):\n",
    "    count=0\n",
    "    for i in range(1,a):\n",
    "        if a % i==0:\n",
    "            count+=1\n",
    "    if(count>1):\n",
    "        print(f\"{a} is not a prime number\")\n",
    "    else:\n",
    "        print(f\"{a} is a Prime\")\n",
    "\n",
    "prime(3)   "
   ]
  }
 ],
 "metadata": {
  "kernelspec": {
   "display_name": "csit82",
   "language": "python",
   "name": "python3"
  },
  "language_info": {
   "codemirror_mode": {
    "name": "ipython",
    "version": 3
   },
   "file_extension": ".py",
   "mimetype": "text/x-python",
   "name": "python",
   "nbconvert_exporter": "python",
   "pygments_lexer": "ipython3",
   "version": "3.12.11"
  }
 },
 "nbformat": 4,
 "nbformat_minor": 5
}
