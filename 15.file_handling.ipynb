{
 "cells": [
  {
   "cell_type": "markdown",
   "id": "f1a0ae89",
   "metadata": {},
   "source": [
    "### File Handling\n",
    "- uses open() function to open file in different modes.\n",
    "- Read mode(r)\n",
    "- Write mode(w)\n",
    "- Append mode(a)"
   ]
  },
  {
   "cell_type": "code",
   "execution_count": 36,
   "id": "9388a49c",
   "metadata": {},
   "outputs": [],
   "source": [
    "# abs_path=\"C:\\\\Teaching\\\\Nccscsit82\\\\files\"\n",
    "# real_path:\"files\"\n"
   ]
  },
  {
   "cell_type": "markdown",
   "id": "25801dc2",
   "metadata": {},
   "source": [
    "##Write Modes\n",
    "- creates new files if file doesn't exists at specified path.\n",
    "- If file already exists at specified path,then all the contents are erased to make the file as new one."
   ]
  },
  {
   "cell_type": "code",
   "execution_count": 37,
   "id": "761732dc",
   "metadata": {},
   "outputs": [],
   "source": [
    "filepath=\"data.txt\"\n",
    "open_mode=\"w\"\n",
    "file=open(filepath,open_mode)\n",
    "file.write(\"Hello sir\")\n",
    "file.close()"
   ]
  },
  {
   "cell_type": "code",
   "execution_count": 38,
   "id": "dfbcfa11",
   "metadata": {},
   "outputs": [],
   "source": [
    "filepath = r\"files\\\\rawData.txt\"\n",
    "file=open(filepath,open_mode)\n",
    "content=[\n",
    "    \"this is first statement\",\n",
    "    \"this is second statement\\n\",\n",
    "    \"this is third statement\",\n",
    "]\n",
    "file.writelines(content)\n",
    "file.close()"
   ]
  },
  {
   "cell_type": "markdown",
   "id": "970bf1f8",
   "metadata": {},
   "source": [
    "## Append (\"a) Mode\n",
    "- created new file if file does not exist \n",
    "-If the file exists in the specified path,no changes is made in the content of file.\n",
    "-write and writelines method can be used when opened in append mode.\n",
    "- Adds new content to the end of the existing content."
   ]
  },
  {
   "cell_type": "code",
   "execution_count": 39,
   "id": "3cd44fd1",
   "metadata": {},
   "outputs": [],
   "source": [
    "filepath = r\"files\\\\rawData.txt\"\n",
    "file=open(filepath,\"a\")\n",
    "file.write(\"\\n This is appended line.\")\n",
    "file.close()"
   ]
  },
  {
   "cell_type": "code",
   "execution_count": 40,
   "id": "aa6820c9",
   "metadata": {},
   "outputs": [],
   "source": [
    "filepath = r\"files\\\\rawData.txt\"\n",
    "file=open(filepath,\"+a\")\n",
    "file.write(\"\\n This is appended line.\")\n",
    "file.close()"
   ]
  },
  {
   "cell_type": "markdown",
   "id": "72ad64ae",
   "metadata": {},
   "source": [
    "## Read Mode\n",
    "- reads files content \n",
    "- doesn't create a new files and erase"
   ]
  },
  {
   "cell_type": "code",
   "execution_count": 41,
   "id": "9ebe0888",
   "metadata": {},
   "outputs": [
    {
     "name": "stdout",
     "output_type": "stream",
     "text": [
      "this is first statementthis is second statement\n",
      "this is third statement\n",
      " This is appended line.\n",
      " This is appended line.\n"
     ]
    }
   ],
   "source": [
    "filepath=\"files/rawData.txt\"\n",
    "file=open(filepath,\"r\")\n",
    "content=file.read()\n",
    "print(content)\n",
    "file.close()"
   ]
  },
  {
   "cell_type": "code",
   "execution_count": 42,
   "id": "48ab154b",
   "metadata": {},
   "outputs": [
    {
     "name": "stdout",
     "output_type": "stream",
     "text": [
      "['this is first statementthis is second statement\\n', 'this is third statement\\n', ' This is appended line.\\n', ' This is appended line.']\n"
     ]
    }
   ],
   "source": [
    "filepath=\"files/rawData.txt\"\n",
    "file=open(filepath,\"r\")\n",
    "content=file.readlines()\n",
    "print(content)\n",
    "file.close()\n"
   ]
  },
  {
   "cell_type": "markdown",
   "id": "e8d6d9e4",
   "metadata": {},
   "source": [
    "### readline() method\n",
    "- retrieves single line at a time as string"
   ]
  },
  {
   "cell_type": "code",
   "execution_count": 50,
   "id": "c87a9b62",
   "metadata": {},
   "outputs": [],
   "source": [
    "filepath=\"files/rawData.txt\"\n",
    "file=open(filepath,\"r\")"
   ]
  },
  {
   "cell_type": "code",
   "execution_count": 51,
   "id": "0596ab40",
   "metadata": {},
   "outputs": [
    {
     "data": {
      "text/plain": [
       "'this is first statementthis is second statement\\n'"
      ]
     },
     "execution_count": 51,
     "metadata": {},
     "output_type": "execute_result"
    }
   ],
   "source": [
    "content=file.readline()\n",
    "content"
   ]
  },
  {
   "cell_type": "markdown",
   "id": "a8193fa9",
   "metadata": {},
   "source": [
    "### readlines() method"
   ]
  },
  {
   "cell_type": "code",
   "execution_count": 53,
   "id": "3e792890",
   "metadata": {},
   "outputs": [],
   "source": [
    "filepath=\"files/rawData.txt\"\n",
    "file=open(filepath,\"r\")\n"
   ]
  },
  {
   "cell_type": "code",
   "execution_count": 54,
   "id": "a2e9203a",
   "metadata": {},
   "outputs": [
    {
     "name": "stdout",
     "output_type": "stream",
     "text": [
      "['this is first statementthis is second statement\\n', 'this is third statement\\n', ' This is appended line.\\n', ' This is appended line.']\n"
     ]
    }
   ],
   "source": [
    "content=file.readlines()\n",
    "print(content)"
   ]
  },
  {
   "cell_type": "code",
   "execution_count": 55,
   "id": "39de1e4b",
   "metadata": {},
   "outputs": [
    {
     "name": "stdout",
     "output_type": "stream",
     "text": [
      "[]\n"
     ]
    }
   ],
   "source": [
    "content=file.readlines()\n",
    "print(content)"
   ]
  },
  {
   "cell_type": "code",
   "execution_count": 56,
   "id": "5bced225",
   "metadata": {},
   "outputs": [],
   "source": [
    "file.close()"
   ]
  }
 ],
 "metadata": {
  "kernelspec": {
   "display_name": "csit82",
   "language": "python",
   "name": "python3"
  },
  "language_info": {
   "codemirror_mode": {
    "name": "ipython",
    "version": 3
   },
   "file_extension": ".py",
   "mimetype": "text/x-python",
   "name": "python",
   "nbconvert_exporter": "python",
   "pygments_lexer": "ipython3",
   "version": "3.12.11"
  }
 },
 "nbformat": 4,
 "nbformat_minor": 5
}
