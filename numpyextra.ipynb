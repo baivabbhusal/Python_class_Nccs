{
 "cells": [
  {
   "cell_type": "markdown",
   "id": "c6fb2e67",
   "metadata": {},
   "source": [
    "## Numpy"
   ]
  },
  {
   "cell_type": "code",
   "execution_count": 1,
   "id": "ab39f10f",
   "metadata": {},
   "outputs": [],
   "source": [
    "import numpy as np\n"
   ]
  },
  {
   "cell_type": "code",
   "execution_count": 3,
   "id": "7d5bb715",
   "metadata": {},
   "outputs": [
    {
     "name": "stdout",
     "output_type": "stream",
     "text": [
      "1D Array: [1 2 3 4]\n",
      "2D Array: [[1 2 3]\n",
      " [4 5 6]]\n"
     ]
    }
   ],
   "source": [
    "arr_1d=np.array([1,2,3,4])\n",
    "print(\"1D Array:\",arr_1d)\n",
    "arr_2d=np.array([[1,2,3],[4,5,6]])\n",
    "print(\"2D Array:\",arr_2d)"
   ]
  },
  {
   "cell_type": "markdown",
   "id": "13a4e896",
   "metadata": {},
   "source": [
    "### List vs Numpy Array"
   ]
  },
  {
   "cell_type": "code",
   "execution_count": null,
   "id": "53a19465",
   "metadata": {},
   "outputs": [
    {
     "name": "stdout",
     "output_type": "stream",
     "text": [
      "Python list multiplication [1, 2, 3, 44, 1, 2, 3, 44]\n"
     ]
    }
   ],
   "source": [
    "list=[1,2,3,44]\n",
    "print(\"Python list multiplication\",list*2) #two list within list is created"
   ]
  },
  {
   "cell_type": "code",
   "execution_count": 5,
   "id": "8639b808",
   "metadata": {},
   "outputs": [
    {
     "name": "stdout",
     "output_type": "stream",
     "text": [
      "Multiplication in numpy [2 4 6 8]\n"
     ]
    }
   ],
   "source": [
    "np_array=np.array([1,2,3,4])\n",
    "print(\"Multiplication in numpy\",np_array*2)"
   ]
  },
  {
   "cell_type": "code",
   "execution_count": 7,
   "id": "ef0713eb",
   "metadata": {},
   "outputs": [
    {
     "name": "stdout",
     "output_type": "stream",
     "text": [
      "\n",
      " List operation time: 0.22310209274291992\n",
      "\n",
      " Numpy operation time: 0.002007007598876953\n"
     ]
    }
   ],
   "source": [
    "import time\n",
    "start=time.time()\n",
    "py_list=[i*2 for i in range(1000000)]\n",
    "print(\"\\n List operation time:\",time.time()-start)\n",
    "\n",
    "start=time.time()\n",
    "np_array=np.arange(100000)*2\n",
    "print(\"\\n Numpy operation time:\", time.time()-start)"
   ]
  },
  {
   "cell_type": "markdown",
   "id": "a5ea9da1",
   "metadata": {},
   "source": [
    "### Creating array from scratch\n"
   ]
  },
  {
   "cell_type": "code",
   "execution_count": 8,
   "id": "b0904610",
   "metadata": {},
   "outputs": [
    {
     "data": {
      "text/plain": [
       "array([[0., 0., 0., 0.],\n",
       "       [0., 0., 0., 0.],\n",
       "       [0., 0., 0., 0.]])"
      ]
     },
     "execution_count": 8,
     "metadata": {},
     "output_type": "execute_result"
    }
   ],
   "source": [
    "zeros=np.zeros((3,4))\n",
    "zeros"
   ]
  },
  {
   "cell_type": "code",
   "execution_count": 9,
   "id": "1e8bf227",
   "metadata": {},
   "outputs": [
    {
     "data": {
      "text/plain": [
       "array([[1., 1., 1.],\n",
       "       [1., 1., 1.],\n",
       "       [1., 1., 1.],\n",
       "       [1., 1., 1.]])"
      ]
     },
     "execution_count": 9,
     "metadata": {},
     "output_type": "execute_result"
    }
   ],
   "source": [
    "ones=np.ones((4,3))\n",
    "ones"
   ]
  },
  {
   "cell_type": "code",
   "execution_count": 15,
   "id": "bc171a65",
   "metadata": {},
   "outputs": [
    {
     "data": {
      "text/plain": [
       "array([[0.46702182, 0.99481839, 0.24378201],\n",
       "       [0.96741968, 0.91144083, 0.16944027]])"
      ]
     },
     "execution_count": 15,
     "metadata": {},
     "output_type": "execute_result"
    }
   ],
   "source": [
    "random=np.random.random((2,3))\n",
    "random"
   ]
  },
  {
   "cell_type": "markdown",
   "id": "e94a500e",
   "metadata": {},
   "source": [
    "### Vector,Matrix and Tensor"
   ]
  },
  {
   "cell_type": "code",
   "execution_count": 17,
   "id": "7e48a64f",
   "metadata": {},
   "outputs": [
    {
     "name": "stdout",
     "output_type": "stream",
     "text": [
      "Vector:\n",
      " [3 4 5]\n",
      "Matrix:\n",
      " [[1 2 3]\n",
      " [3 2 5]\n",
      " [5 4 6]]\n",
      "Tensor:\n",
      " [[[1 2]\n",
      "  [3 4]]\n",
      "\n",
      " [[5 6]\n",
      "  [7 8]]]\n"
     ]
    }
   ],
   "source": [
    "vector=np.array([3,4,5])\n",
    "print(\"Vector:\\n\",vector)\n",
    "\n",
    "matrix=np.array([[1,2,3],[3,2,5],[5,4,6]])\n",
    "print(\"Matrix:\\n\",matrix)\n",
    "\n",
    "tensor=np.array([[[1,2],[3,4]],\n",
    "                 [[5,6],[7,8]]])\n",
    "print(\"Tensor:\\n\",tensor)"
   ]
  }
 ],
 "metadata": {
  "kernelspec": {
   "display_name": "csit82",
   "language": "python",
   "name": "python3"
  },
  "language_info": {
   "codemirror_mode": {
    "name": "ipython",
    "version": 3
   },
   "file_extension": ".py",
   "mimetype": "text/x-python",
   "name": "python",
   "nbconvert_exporter": "python",
   "pygments_lexer": "ipython3",
   "version": "3.12.11"
  }
 },
 "nbformat": 4,
 "nbformat_minor": 5
}
