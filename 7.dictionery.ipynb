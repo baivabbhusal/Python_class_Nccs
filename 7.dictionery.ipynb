{
 "cells": [
  {
   "cell_type": "markdown",
   "id": "9aa7d886",
   "metadata": {},
   "source": [
    "# Dictionery\n",
    "\n",
    "- uses curly braces to define the structure.\n",
    "- stores data as key-value pairs.\n",
    "- key must be immutable type and value has no limitation in data type"
   ]
  },
  {
   "cell_type": "code",
   "execution_count": 2,
   "id": "1ba50bca",
   "metadata": {},
   "outputs": [
    {
     "data": {
      "text/plain": [
       "dict"
      ]
     },
     "execution_count": 2,
     "metadata": {},
     "output_type": "execute_result"
    }
   ],
   "source": [
    "d1={}\n",
    "type(d1)"
   ]
  },
  {
   "cell_type": "code",
   "execution_count": 3,
   "id": "d2919ebc",
   "metadata": {},
   "outputs": [
    {
     "data": {
      "text/plain": [
       "{'name': 'ram', 'age': 23, 'gender': 'male'}"
      ]
     },
     "execution_count": 3,
     "metadata": {},
     "output_type": "execute_result"
    }
   ],
   "source": [
    "d11={\"name\":\"ram\",\"age\":23,\"gender\":\"male\"}\n",
    "d11"
   ]
  },
  {
   "cell_type": "code",
   "execution_count": 4,
   "id": "f98542ab",
   "metadata": {},
   "outputs": [
    {
     "name": "stdout",
     "output_type": "stream",
     "text": [
      "d2={}\n",
      "type(d2)=<class 'dict'>\n"
     ]
    }
   ],
   "source": [
    "d2=dict()\n",
    "print(f\"{d2=}\")\n",
    "print(f\"{type(d2)=}\")"
   ]
  },
  {
   "cell_type": "markdown",
   "id": "5f5e461b",
   "metadata": {},
   "source": [
    "# create Dictionary with default key value pairs"
   ]
  },
  {
   "cell_type": "code",
   "execution_count": 5,
   "id": "a72cb2fd",
   "metadata": {},
   "outputs": [
    {
     "name": "stdout",
     "output_type": "stream",
     "text": [
      "d3={'key1': 'value1', 'key2': 'value2'}\n",
      "type(d3)=<class 'dict'>\n"
     ]
    }
   ],
   "source": [
    "d3={'key1':'value1','key2':'value2'}\n",
    "print(f\"{d3=}\")\n",
    "print(f\"{type(d3)=}\")"
   ]
  },
  {
   "cell_type": "code",
   "execution_count": 6,
   "id": "129ab126",
   "metadata": {},
   "outputs": [
    {
     "name": "stdout",
     "output_type": "stream",
     "text": [
      "d4={'key1': 'value1', 'key2': 'value2'}\n",
      "type(d4)=<class 'dict'>\n"
     ]
    }
   ],
   "source": [
    "d4=dict(key1='value1',key2='value2')\n",
    "print(f\"{d4=}\")\n",
    "print(f\"{type(d4)=}\")"
   ]
  },
  {
   "cell_type": "markdown",
   "id": "03c6838c",
   "metadata": {},
   "source": [
    "# Adding new key-value pairs into the dictionary"
   ]
  },
  {
   "cell_type": "code",
   "execution_count": 7,
   "id": "3816472f",
   "metadata": {},
   "outputs": [
    {
     "data": {
      "text/plain": [
       "{'last_Name': 'Bhusal'}"
      ]
     },
     "execution_count": 7,
     "metadata": {},
     "output_type": "execute_result"
    }
   ],
   "source": [
    "d1[\"last_Name\"]=\"Bhusal\"\n",
    "d1"
   ]
  },
  {
   "cell_type": "code",
   "execution_count": 8,
   "id": "5425e146",
   "metadata": {},
   "outputs": [
    {
     "data": {
      "text/plain": [
       "{'last_Name': 'Bhusal', 'age': 22}"
      ]
     },
     "execution_count": 8,
     "metadata": {},
     "output_type": "execute_result"
    }
   ],
   "source": [
    "d1[\"age\"]=22\n",
    "d1"
   ]
  },
  {
   "cell_type": "markdown",
   "id": "89074006",
   "metadata": {},
   "source": [
    "# updating existing key-value pair"
   ]
  },
  {
   "cell_type": "code",
   "execution_count": 9,
   "id": "b90adde0",
   "metadata": {},
   "outputs": [
    {
     "data": {
      "text/plain": [
       "{'last_Name': 'Bhusal', 'age': 36}"
      ]
     },
     "execution_count": 9,
     "metadata": {},
     "output_type": "execute_result"
    }
   ],
   "source": [
    "d1[\"age\"]=36\n",
    "d1"
   ]
  },
  {
   "cell_type": "markdown",
   "id": "431cfb30",
   "metadata": {},
   "source": [
    "# removing key-value pairs\n"
   ]
  },
  {
   "cell_type": "code",
   "execution_count": 15,
   "id": "ba33ce65",
   "metadata": {},
   "outputs": [
    {
     "data": {
      "text/plain": [
       "{'name': 'ram', 'country': 'nepal', 'age': 23, 'height': 5.5, 'kaho': 'india'}"
      ]
     },
     "execution_count": 15,
     "metadata": {},
     "output_type": "execute_result"
    }
   ],
   "source": [
    "d5={\"name\":\"ram\",\"country\":\"nepal\",\"age\":23,'height':5.5,\"kaho\":\"india\"}\n",
    "d5"
   ]
  },
  {
   "cell_type": "code",
   "execution_count": 16,
   "id": "cb7d41d1",
   "metadata": {},
   "outputs": [
    {
     "name": "stdout",
     "output_type": "stream",
     "text": [
      "india\n",
      "d5={'name': 'ram', 'country': 'nepal', 'age': 23, 'height': 5.5}\n"
     ]
    }
   ],
   "source": [
    "returned_value=d5.pop(\"kaho\")\n",
    "print(returned_value)\n",
    "print(f\"{d5=}\")"
   ]
  },
  {
   "cell_type": "code",
   "execution_count": null,
   "id": "435941a4",
   "metadata": {},
   "outputs": [
    {
     "name": "stdout",
     "output_type": "stream",
     "text": [
      "returned_value=('height', 5.5)\n",
      "d5={'name': 'ram', 'country': 'nepal', 'age': 23}\n"
     ]
    }
   ],
   "source": [
    "returned_value=d5.popitem() #removes last key value pair\n",
    "print(f\"{returned_value=}\")\n",
    "print(f\"{d5=}\")"
   ]
  },
  {
   "cell_type": "markdown",
   "id": "28ab3a49",
   "metadata": {},
   "source": [
    "## Adding entire key-value pairs of one dictionary to another"
   ]
  },
  {
   "cell_type": "code",
   "execution_count": 18,
   "id": "30c8b700",
   "metadata": {},
   "outputs": [
    {
     "name": "stdout",
     "output_type": "stream",
     "text": [
      "d6={'a': 21, 'b': 13, 'c': 22, 'd': 34}\n",
      "d7={'c': 22, 'd': 34}\n"
     ]
    }
   ],
   "source": [
    "d6={\"a\":21,\"b\":13}\n",
    "d7={\"c\":22,\"d\":34}\n",
    "d6.update(d7)\n",
    "print(f\"{d6=}\")\n",
    "print(f\"{d7=}\")"
   ]
  },
  {
   "cell_type": "code",
   "execution_count": 19,
   "id": "f1baa99b",
   "metadata": {},
   "outputs": [
    {
     "data": {
      "text/plain": [
       "dict_keys(['a', 'b', 'c', 'd'])"
      ]
     },
     "execution_count": 19,
     "metadata": {},
     "output_type": "execute_result"
    }
   ],
   "source": [
    "d6.keys()"
   ]
  },
  {
   "cell_type": "code",
   "execution_count": 20,
   "id": "9bbb8c7f",
   "metadata": {},
   "outputs": [
    {
     "data": {
      "text/plain": [
       "['a', 'b', 'c', 'd']"
      ]
     },
     "execution_count": 20,
     "metadata": {},
     "output_type": "execute_result"
    }
   ],
   "source": [
    "list(d6.keys())"
   ]
  },
  {
   "cell_type": "code",
   "execution_count": 21,
   "id": "a561682b",
   "metadata": {},
   "outputs": [
    {
     "data": {
      "text/plain": [
       "dict_values([21, 13, 22, 34])"
      ]
     },
     "execution_count": 21,
     "metadata": {},
     "output_type": "execute_result"
    }
   ],
   "source": [
    "d6.values()"
   ]
  },
  {
   "cell_type": "code",
   "execution_count": 22,
   "id": "51003330",
   "metadata": {},
   "outputs": [
    {
     "data": {
      "text/plain": [
       "dict_items([('a', 21), ('b', 13), ('c', 22), ('d', 34)])"
      ]
     },
     "execution_count": 22,
     "metadata": {},
     "output_type": "execute_result"
    }
   ],
   "source": [
    "d6.items()"
   ]
  },
  {
   "cell_type": "code",
   "execution_count": 23,
   "id": "26b0b178",
   "metadata": {},
   "outputs": [
    {
     "data": {
      "text/plain": [
       "22"
      ]
     },
     "execution_count": 23,
     "metadata": {},
     "output_type": "execute_result"
    }
   ],
   "source": [
    "d6[\"c\"]"
   ]
  },
  {
   "cell_type": "code",
   "execution_count": 24,
   "id": "532b3f5b",
   "metadata": {},
   "outputs": [
    {
     "data": {
      "text/plain": [
       "22"
      ]
     },
     "execution_count": 24,
     "metadata": {},
     "output_type": "execute_result"
    }
   ],
   "source": [
    "d6.get(\"c\")"
   ]
  },
  {
   "cell_type": "code",
   "execution_count": 25,
   "id": "271c4113",
   "metadata": {},
   "outputs": [],
   "source": [
    "d6.get(\"e\")"
   ]
  }
 ],
 "metadata": {
  "kernelspec": {
   "display_name": "csit82",
   "language": "python",
   "name": "python3"
  },
  "language_info": {
   "codemirror_mode": {
    "name": "ipython",
    "version": 3
   },
   "file_extension": ".py",
   "mimetype": "text/x-python",
   "name": "python",
   "nbconvert_exporter": "python",
   "pygments_lexer": "ipython3",
   "version": "3.12.11"
  }
 },
 "nbformat": 4,
 "nbformat_minor": 5
}
