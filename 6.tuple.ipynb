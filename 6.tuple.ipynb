{
 "cells": [
  {
   "cell_type": "markdown",
   "id": "36677200",
   "metadata": {},
   "source": [
    "# Tuple\n",
    "-Array-like.\n",
    "-Can store elements of multiple data types as in list.\n",
    "-can store duplicate values.\n",
    "-unlike list elements neither can be added,removes nor updated. "
   ]
  },
  {
   "cell_type": "code",
   "execution_count": null,
   "id": "9ad0fd68",
   "metadata": {},
   "outputs": [
    {
     "name": "stdout",
     "output_type": "stream",
     "text": [
      "t1=()\n",
      "<class 'tuple'>\n"
     ]
    }
   ],
   "source": [
    "t1=()\n",
    "print(f\"{t1=}\")\n",
    "print(type(t1))"
   ]
  },
  {
   "cell_type": "code",
   "execution_count": 4,
   "id": "832f0580",
   "metadata": {},
   "outputs": [
    {
     "name": "stdout",
     "output_type": "stream",
     "text": [
      "t2=()\n",
      "type(t2)=<class 'tuple'>\n"
     ]
    }
   ],
   "source": [
    "t2=tuple()\n",
    "print(f\"{t2=}\")\n",
    "print(f\"{type(t2)=}\")"
   ]
  },
  {
   "cell_type": "markdown",
   "id": "a19fa858",
   "metadata": {},
   "source": [
    "# creating tuple with default elements"
   ]
  },
  {
   "cell_type": "code",
   "execution_count": 3,
   "id": "0fa5d678",
   "metadata": {},
   "outputs": [
    {
     "name": "stdout",
     "output_type": "stream",
     "text": [
      "t3=(1, 2.0, True, (), ['this', 'is'])\n",
      "type(t3)=<class 'tuple'>\n"
     ]
    }
   ],
   "source": [
    "t3=(1,2.0,True,(),[\"this\",\"is\"])\n",
    "print(f\"{t3=}\")\n",
    "print(f\"{type(t3)=}\")"
   ]
  },
  {
   "cell_type": "code",
   "execution_count": 5,
   "id": "ab17a11d",
   "metadata": {},
   "outputs": [
    {
     "data": {
      "text/plain": [
       "2"
      ]
     },
     "execution_count": 5,
     "metadata": {},
     "output_type": "execute_result"
    }
   ],
   "source": [
    "t4=(1,2,3,4,5,2,3,1,8,1,9)\n",
    "t4.count(2)"
   ]
  },
  {
   "cell_type": "code",
   "execution_count": 6,
   "id": "0c630c7e",
   "metadata": {},
   "outputs": [
    {
     "data": {
      "text/plain": [
       "1"
      ]
     },
     "execution_count": 6,
     "metadata": {},
     "output_type": "execute_result"
    }
   ],
   "source": [
    "t4.count(8)"
   ]
  },
  {
   "cell_type": "code",
   "execution_count": null,
   "id": "2d1e8d04",
   "metadata": {},
   "outputs": [
    {
     "data": {
      "text/plain": [
       "5"
      ]
     },
     "execution_count": 8,
     "metadata": {},
     "output_type": "execute_result"
    }
   ],
   "source": [
    "t4.index(2,4) #starts from index 4"
   ]
  },
  {
   "cell_type": "code",
   "execution_count": 9,
   "id": "ec1c5db9",
   "metadata": {},
   "outputs": [
    {
     "data": {
      "text/plain": [
       "5"
      ]
     },
     "execution_count": 9,
     "metadata": {},
     "output_type": "execute_result"
    }
   ],
   "source": [
    "t4.index(2,3,9) #starts with index 3 and ends in 9"
   ]
  },
  {
   "cell_type": "markdown",
   "id": "3f749d7a",
   "metadata": {},
   "source": [
    "# creating tuple with single element"
   ]
  },
  {
   "cell_type": "code",
   "execution_count": 15,
   "id": "bd30ade8",
   "metadata": {},
   "outputs": [
    {
     "name": "stdout",
     "output_type": "stream",
     "text": [
      "<class 'tuple'>\n",
      "('raju',)\n"
     ]
    }
   ],
   "source": [
    "t5=(\"raju\",) #python automatically crreates string for single element so use ,\n",
    "print(type(t5))\n",
    "print(t5)"
   ]
  },
  {
   "cell_type": "code",
   "execution_count": 16,
   "id": "06d9a815",
   "metadata": {},
   "outputs": [
    {
     "name": "stdout",
     "output_type": "stream",
     "text": [
      "t2=[]\n",
      "type(t2)=<class 'list'>\n"
     ]
    }
   ],
   "source": [
    "t2=list(t2)\n",
    "print(f\"{t2=}\")\n",
    "print(f\"{type(t2)=}\")"
   ]
  },
  {
   "cell_type": "code",
   "execution_count": 17,
   "id": "578d5f48",
   "metadata": {},
   "outputs": [
    {
     "data": {
      "text/plain": [
       "['Nccs']"
      ]
     },
     "execution_count": 17,
     "metadata": {},
     "output_type": "execute_result"
    }
   ],
   "source": [
    "t2.append(\"Nccs\")\n",
    "t2"
   ]
  },
  {
   "cell_type": "code",
   "execution_count": 18,
   "id": "6624d79a",
   "metadata": {},
   "outputs": [
    {
     "name": "stdout",
     "output_type": "stream",
     "text": [
      "t2=('Nccs',)\n",
      "type(t2)=<class 'tuple'>\n"
     ]
    }
   ],
   "source": [
    "t2=tuple(t2)\n",
    "print(f\"{t2=}\")\n",
    "print(f\"{type(t2)=}\")"
   ]
  }
 ],
 "metadata": {
  "kernelspec": {
   "display_name": "csit82",
   "language": "python",
   "name": "python3"
  },
  "language_info": {
   "codemirror_mode": {
    "name": "ipython",
    "version": 3
   },
   "file_extension": ".py",
   "mimetype": "text/x-python",
   "name": "python",
   "nbconvert_exporter": "python",
   "pygments_lexer": "ipython3",
   "version": "3.12.11"
  }
 },
 "nbformat": 4,
 "nbformat_minor": 5
}
