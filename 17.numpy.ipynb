{
 "cells": [
  {
   "cell_type": "markdown",
   "id": "dc2b39cb",
   "metadata": {},
   "source": [
    "### Numpy Installation\n",
    "- !pip install numpy==1.26.4    specific version installation\n",
    "- !pip install \"numpy<=1.26.4\"  for conditional installation\n",
    "- !pip install numpy            install latest version"
   ]
  },
  {
   "cell_type": "code",
   "execution_count": 2,
   "id": "d805812e",
   "metadata": {},
   "outputs": [
    {
     "name": "stdout",
     "output_type": "stream",
     "text": [
      "Collecting numpy\n",
      "  Downloading numpy-2.3.2-cp312-cp312-win_amd64.whl.metadata (60 kB)\n",
      "Downloading numpy-2.3.2-cp312-cp312-win_amd64.whl (12.8 MB)\n",
      "   ---------------------------------------- 0.0/12.8 MB ? eta -:--:--\n",
      "   - -------------------------------------- 0.5/12.8 MB 4.2 MB/s eta 0:00:03\n",
      "   ---- ----------------------------------- 1.3/12.8 MB 4.0 MB/s eta 0:00:03\n",
      "   ---- ----------------------------------- 1.6/12.8 MB 2.5 MB/s eta 0:00:05\n",
      "   ------ --------------------------------- 2.1/12.8 MB 2.9 MB/s eta 0:00:04\n",
      "   --------- ------------------------------ 2.9/12.8 MB 2.9 MB/s eta 0:00:04\n",
      "   ---------- ----------------------------- 3.4/12.8 MB 2.9 MB/s eta 0:00:04\n",
      "   ------------ --------------------------- 3.9/12.8 MB 2.8 MB/s eta 0:00:04\n",
      "   ------------- -------------------------- 4.5/12.8 MB 2.7 MB/s eta 0:00:04\n",
      "   --------------- ------------------------ 5.0/12.8 MB 2.6 MB/s eta 0:00:04\n",
      "   ---------------- ----------------------- 5.2/12.8 MB 2.5 MB/s eta 0:00:03\n",
      "   ------------------ --------------------- 5.8/12.8 MB 2.4 MB/s eta 0:00:03\n",
      "   ------------------ --------------------- 6.0/12.8 MB 2.3 MB/s eta 0:00:03\n",
      "   ------------------- -------------------- 6.3/12.8 MB 2.3 MB/s eta 0:00:03\n",
      "   -------------------- ------------------- 6.6/12.8 MB 2.2 MB/s eta 0:00:03\n",
      "   --------------------- ------------------ 6.8/12.8 MB 2.2 MB/s eta 0:00:03\n",
      "   ---------------------- ----------------- 7.1/12.8 MB 2.1 MB/s eta 0:00:03\n",
      "   ---------------------- ----------------- 7.3/12.8 MB 2.0 MB/s eta 0:00:03\n",
      "   ---------------------- ----------------- 7.3/12.8 MB 2.0 MB/s eta 0:00:03\n",
      "   ----------------------- ---------------- 7.6/12.8 MB 1.9 MB/s eta 0:00:03\n",
      "   ------------------------ --------------- 7.9/12.8 MB 1.8 MB/s eta 0:00:03\n",
      "   ------------------------ --------------- 7.9/12.8 MB 1.8 MB/s eta 0:00:03\n",
      "   ------------------------- -------------- 8.1/12.8 MB 1.7 MB/s eta 0:00:03\n",
      "   -------------------------- ------------- 8.4/12.8 MB 1.7 MB/s eta 0:00:03\n",
      "   --------------------------- ------------ 8.7/12.8 MB 1.7 MB/s eta 0:00:03\n",
      "   --------------------------- ------------ 8.9/12.8 MB 1.6 MB/s eta 0:00:03\n",
      "   ---------------------------- ----------- 9.2/12.8 MB 1.6 MB/s eta 0:00:03\n",
      "   ----------------------------- ---------- 9.4/12.8 MB 1.6 MB/s eta 0:00:03\n",
      "   ------------------------------ --------- 9.7/12.8 MB 1.6 MB/s eta 0:00:02\n",
      "   ------------------------------- -------- 10.0/12.8 MB 1.6 MB/s eta 0:00:02\n",
      "   ------------------------------- -------- 10.0/12.8 MB 1.6 MB/s eta 0:00:02\n",
      "   ------------------------------- -------- 10.2/12.8 MB 1.5 MB/s eta 0:00:02\n",
      "   ------------------------------- -------- 10.2/12.8 MB 1.5 MB/s eta 0:00:02\n",
      "   -------------------------------- ------- 10.5/12.8 MB 1.5 MB/s eta 0:00:02\n",
      "   --------------------------------- ------ 10.7/12.8 MB 1.4 MB/s eta 0:00:02\n",
      "   --------------------------------- ------ 10.7/12.8 MB 1.4 MB/s eta 0:00:02\n",
      "   ---------------------------------- ----- 11.0/12.8 MB 1.4 MB/s eta 0:00:02\n",
      "   ---------------------------------- ----- 11.0/12.8 MB 1.4 MB/s eta 0:00:02\n",
      "   ----------------------------------- ---- 11.3/12.8 MB 1.4 MB/s eta 0:00:02\n",
      "   ------------------------------------ --- 11.5/12.8 MB 1.4 MB/s eta 0:00:01\n",
      "   ------------------------------------ --- 11.8/12.8 MB 1.3 MB/s eta 0:00:01\n",
      "   ------------------------------------- -- 12.1/12.8 MB 1.3 MB/s eta 0:00:01\n",
      "   ------------------------------------- -- 12.1/12.8 MB 1.3 MB/s eta 0:00:01\n",
      "   -------------------------------------- - 12.3/12.8 MB 1.3 MB/s eta 0:00:01\n",
      "   ---------------------------------------  12.6/12.8 MB 1.3 MB/s eta 0:00:01\n",
      "   ---------------------------------------- 12.8/12.8 MB 1.3 MB/s eta 0:00:00\n",
      "Installing collected packages: numpy\n",
      "Successfully installed numpy-2.3.2\n"
     ]
    }
   ],
   "source": [
    "!pip install numpy"
   ]
  },
  {
   "cell_type": "code",
   "execution_count": 1,
   "id": "988275e5",
   "metadata": {},
   "outputs": [],
   "source": [
    "import numpy"
   ]
  },
  {
   "cell_type": "code",
   "execution_count": 3,
   "id": "7e5f5d6f",
   "metadata": {},
   "outputs": [
    {
     "data": {
      "text/plain": [
       "[1, 2, 3, 4, 5]"
      ]
     },
     "execution_count": 3,
     "metadata": {},
     "output_type": "execute_result"
    }
   ],
   "source": [
    "list=[1,2,3,4,5]\n",
    "list"
   ]
  },
  {
   "cell_type": "code",
   "execution_count": 4,
   "id": "83df5951",
   "metadata": {},
   "outputs": [
    {
     "data": {
      "text/plain": [
       "(1, 2, 3, 4, 5)"
      ]
     },
     "execution_count": 4,
     "metadata": {},
     "output_type": "execute_result"
    }
   ],
   "source": [
    "tuple(list)"
   ]
  },
  {
   "cell_type": "markdown",
   "id": "e4a5e093",
   "metadata": {},
   "source": [
    "### Creating numpy array"
   ]
  },
  {
   "cell_type": "code",
   "execution_count": 27,
   "id": "f486bace",
   "metadata": {},
   "outputs": [
    {
     "data": {
      "text/plain": [
       "array(10)"
      ]
     },
     "execution_count": 27,
     "metadata": {},
     "output_type": "execute_result"
    }
   ],
   "source": [
    "arr0=numpy.array(10)\n",
    "arr0"
   ]
  },
  {
   "cell_type": "code",
   "execution_count": 28,
   "id": "ab941e8e",
   "metadata": {},
   "outputs": [
    {
     "data": {
      "text/plain": [
       "0"
      ]
     },
     "execution_count": 28,
     "metadata": {},
     "output_type": "execute_result"
    }
   ],
   "source": [
    "arr0.ndim"
   ]
  },
  {
   "cell_type": "code",
   "execution_count": 6,
   "id": "9a79f7e9",
   "metadata": {},
   "outputs": [
    {
     "data": {
      "text/plain": [
       "array([1, 2, 3, 4, 5])"
      ]
     },
     "execution_count": 6,
     "metadata": {},
     "output_type": "execute_result"
    }
   ],
   "source": [
    "arr=numpy.array(list)\n",
    "arr"
   ]
  },
  {
   "cell_type": "code",
   "execution_count": 7,
   "id": "abc33867",
   "metadata": {},
   "outputs": [
    {
     "data": {
      "text/plain": [
       "numpy.ndarray"
      ]
     },
     "execution_count": 7,
     "metadata": {},
     "output_type": "execute_result"
    }
   ],
   "source": [
    "type(arr)"
   ]
  },
  {
   "cell_type": "code",
   "execution_count": 11,
   "id": "99960952",
   "metadata": {},
   "outputs": [
    {
     "data": {
      "text/plain": [
       "13"
      ]
     },
     "execution_count": 11,
     "metadata": {},
     "output_type": "execute_result"
    }
   ],
   "source": [
    "l1=[[[[[[[[[[[[[4,5]]]]]]]]]]]]]\n",
    "arr1=numpy.array(l1)\n",
    "arr1.ndim"
   ]
  },
  {
   "cell_type": "code",
   "execution_count": 14,
   "id": "8427a5bf",
   "metadata": {},
   "outputs": [
    {
     "data": {
      "text/plain": [
       "(1, 1, 1, 1, 1, 1, 1, 1, 1, 1, 1, 1, 2)"
      ]
     },
     "execution_count": 14,
     "metadata": {},
     "output_type": "execute_result"
    }
   ],
   "source": [
    "arr1.shape"
   ]
  },
  {
   "cell_type": "code",
   "execution_count": 9,
   "id": "2a316dec",
   "metadata": {},
   "outputs": [
    {
     "data": {
      "text/plain": [
       "1"
      ]
     },
     "execution_count": 9,
     "metadata": {},
     "output_type": "execute_result"
    }
   ],
   "source": [
    "# num of dimension of array\n",
    "arr.ndim"
   ]
  },
  {
   "cell_type": "code",
   "execution_count": 12,
   "id": "66e3e581",
   "metadata": {},
   "outputs": [
    {
     "data": {
      "text/plain": [
       "array([1, 2, 3, 4, 5])"
      ]
     },
     "execution_count": 12,
     "metadata": {},
     "output_type": "execute_result"
    }
   ],
   "source": [
    "arr\n"
   ]
  },
  {
   "cell_type": "code",
   "execution_count": null,
   "id": "fbc4d395",
   "metadata": {},
   "outputs": [
    {
     "data": {
      "text/plain": [
       "(5,)"
      ]
     },
     "execution_count": 13,
     "metadata": {},
     "output_type": "execute_result"
    }
   ],
   "source": [
    "#return number of elements in each dimension\n",
    "arr.shape"
   ]
  },
  {
   "cell_type": "code",
   "execution_count": 15,
   "id": "4987b44b",
   "metadata": {},
   "outputs": [
    {
     "name": "stdout",
     "output_type": "stream",
     "text": [
      "arr2=array([[1, 2, 3],\n",
      "       [4, 5, 6]])\n",
      "arr2.ndim=2\n",
      "arr2.shape=(2, 3)\n",
      "type(arr2)=<class 'numpy.ndarray'>\n",
      "arr2.dtype=dtype('int64')\n"
     ]
    }
   ],
   "source": [
    "l=[\n",
    "    [1,2,3],\n",
    "    [4,5,6]\n",
    "]\n",
    "arr2=numpy.array(l)\n",
    "print(f\"{arr2=}\")\n",
    "print(f\"{arr2.ndim=}\")\n",
    "print(f\"{arr2.shape=}\")\n",
    "print(f\"{type(arr2)=}\")\n",
    "print(f'{arr2.dtype=}')\n",
    "\n"
   ]
  },
  {
   "cell_type": "code",
   "execution_count": 26,
   "id": "04a7dc48",
   "metadata": {},
   "outputs": [
    {
     "name": "stdout",
     "output_type": "stream",
     "text": [
      "arr2=array([[1., 2., 3.],\n",
      "       [4., 5., 6.]], dtype=float32)\n",
      "arr2.ndim=2\n",
      "arr2.shape=(2, 3)\n",
      "type(arr2)=<class 'numpy.ndarray'>\n",
      "arr2.dtype=dtype('float32')\n"
     ]
    }
   ],
   "source": [
    "l=[\n",
    "    [1,2,3],\n",
    "    [4,5,6]\n",
    "]\n",
    "arr2=numpy.array(l,dtype=numpy.float32)\n",
    "print(f\"{arr2=}\")\n",
    "print(f\"{arr2.ndim=}\")\n",
    "print(f\"{arr2.shape=}\")\n",
    "print(f\"{type(arr2)=}\")\n",
    "print(f'{arr2.dtype=}')"
   ]
  },
  {
   "cell_type": "markdown",
   "id": "c226ede9",
   "metadata": {},
   "source": [
    "### 3rd Dimension array"
   ]
  },
  {
   "cell_type": "markdown",
   "id": "d49cc1a6",
   "metadata": {},
   "source": [
    "##### To find dimension of array\n",
    "\n",
    "- ND-Array->(n-1)D Array\n",
    "- N Dimension array has (N-1) Dimensional array ele,emt in 1st dimension<br>\n",
    "- N Dimensional array has (N-2) Dimensional array element in 2nd dimension<br>"
   ]
  },
  {
   "cell_type": "code",
   "execution_count": 32,
   "id": "2b0f0d51",
   "metadata": {},
   "outputs": [
    {
     "name": "stdout",
     "output_type": "stream",
     "text": [
      "(2, 2, 3)\n",
      "[[[ 1  2  3]\n",
      "  [ 4  5  6]]\n",
      "\n",
      " [[10 20 30]\n",
      "  [40 50 60]]]\n"
     ]
    }
   ],
   "source": [
    "l3=(\n",
    "    [\n",
    "        [\n",
    "        [1,2,3],\n",
    "        [4,5,6]\n",
    "        ],   \n",
    "        [\n",
    "        [10,20,30],\n",
    "        [40,50,60]\n",
    "        ]\n",
    "        ]   \n",
    ")\n",
    "arr3=numpy.array(l3)\n",
    "print(arr3.shape)\n",
    "print(arr3)"
   ]
  },
  {
   "cell_type": "markdown",
   "id": "8a0a7a7b",
   "metadata": {},
   "source": [
    "### Operations\n"
   ]
  },
  {
   "cell_type": "code",
   "execution_count": 33,
   "id": "baefeb2b",
   "metadata": {},
   "outputs": [],
   "source": [
    "import numpy as np "
   ]
  },
  {
   "cell_type": "code",
   "execution_count": 42,
   "id": "0a803387",
   "metadata": {},
   "outputs": [
    {
     "name": "stdout",
     "output_type": "stream",
     "text": [
      "1 10\n",
      "2 20\n",
      "3 30\n"
     ]
    }
   ],
   "source": [
    "l1=[1,2,3]\n",
    "l2=[10,20,30]\n",
    "for ele_1,ele_2 in zip(l1,l2):\n",
    "    print(ele_1,ele_2)"
   ]
  },
  {
   "cell_type": "code",
   "execution_count": 43,
   "id": "9caa3383",
   "metadata": {},
   "outputs": [
    {
     "data": {
      "text/plain": [
       "[11, 22, 33]"
      ]
     },
     "execution_count": 43,
     "metadata": {},
     "output_type": "execute_result"
    }
   ],
   "source": [
    "l1=[1,2,3]\n",
    "l2=[10,20,30]\n",
    "result=[]\n",
    "for ele_1,ele_2 in zip(l1,l2):\n",
    "    result.append(ele_1+ele_2)\n",
    "result"
   ]
  },
  {
   "cell_type": "code",
   "execution_count": 40,
   "id": "23a1241e",
   "metadata": {},
   "outputs": [],
   "source": [
    "arr1=np.array([1,2,3,4])\n",
    "arr2=np.array([10,20,30,40])"
   ]
  },
  {
   "cell_type": "code",
   "execution_count": 41,
   "id": "d464f4f5",
   "metadata": {},
   "outputs": [
    {
     "data": {
      "text/plain": [
       "array([11, 22, 33, 44])"
      ]
     },
     "execution_count": 41,
     "metadata": {},
     "output_type": "execute_result"
    }
   ],
   "source": [
    "arr1+arr2"
   ]
  }
 ],
 "metadata": {
  "kernelspec": {
   "display_name": "csit82",
   "language": "python",
   "name": "python3"
  },
  "language_info": {
   "codemirror_mode": {
    "name": "ipython",
    "version": 3
   },
   "file_extension": ".py",
   "mimetype": "text/x-python",
   "name": "python",
   "nbconvert_exporter": "python",
   "pygments_lexer": "ipython3",
   "version": "3.12.11"
  }
 },
 "nbformat": 4,
 "nbformat_minor": 5
}
