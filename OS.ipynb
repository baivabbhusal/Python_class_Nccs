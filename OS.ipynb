{
 "cells": [
  {
   "cell_type": "markdown",
   "id": "99163841",
   "metadata": {},
   "source": [
    "### import operating system "
   ]
  },
  {
   "cell_type": "code",
   "execution_count": 2,
   "id": "baa2eae1",
   "metadata": {},
   "outputs": [
    {
     "data": {
      "text/plain": [
       "True"
      ]
     },
     "execution_count": 2,
     "metadata": {},
     "output_type": "execute_result"
    }
   ],
   "source": [
    "import os\n",
    "os.path.isdir(\"files\")"
   ]
  },
  {
   "cell_type": "code",
   "execution_count": 3,
   "id": "d1dd7d2f",
   "metadata": {},
   "outputs": [
    {
     "data": {
      "text/plain": [
       "False"
      ]
     },
     "execution_count": 3,
     "metadata": {},
     "output_type": "execute_result"
    }
   ],
   "source": [
    "import os\n",
    "os.path.isdir(\"files\\rawData.txt\")"
   ]
  },
  {
   "cell_type": "code",
   "execution_count": 4,
   "id": "7083e70d",
   "metadata": {},
   "outputs": [
    {
     "data": {
      "text/plain": [
       "False"
      ]
     },
     "execution_count": 4,
     "metadata": {},
     "output_type": "execute_result"
    }
   ],
   "source": [
    "os.path.exists(\"files/re.txt\")"
   ]
  },
  {
   "cell_type": "code",
   "execution_count": 5,
   "id": "3c9ed0d5",
   "metadata": {},
   "outputs": [],
   "source": [
    "os.remove(\"data.txt\")"
   ]
  }
 ],
 "metadata": {
  "kernelspec": {
   "display_name": "csit82",
   "language": "python",
   "name": "python3"
  },
  "language_info": {
   "codemirror_mode": {
    "name": "ipython",
    "version": 3
   },
   "file_extension": ".py",
   "mimetype": "text/x-python",
   "name": "python",
   "nbconvert_exporter": "python",
   "pygments_lexer": "ipython3",
   "version": "3.12.11"
  }
 },
 "nbformat": 4,
 "nbformat_minor": 5
}
