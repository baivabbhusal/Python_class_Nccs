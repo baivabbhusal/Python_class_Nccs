{
 "cells": [
  {
   "cell_type": "code",
   "execution_count": 1,
   "id": "2a63f6d2",
   "metadata": {},
   "outputs": [
    {
     "name": "stdout",
     "output_type": "stream",
     "text": [
      "Requirement already satisfied: pandas in c:\\users\\baivab bhusal\\miniconda3\\envs\\csit82\\lib\\site-packages (2.3.2)\n",
      "Requirement already satisfied: numpy>=1.26.0 in c:\\users\\baivab bhusal\\miniconda3\\envs\\csit82\\lib\\site-packages (from pandas) (2.3.2)\n",
      "Requirement already satisfied: python-dateutil>=2.8.2 in c:\\users\\baivab bhusal\\miniconda3\\envs\\csit82\\lib\\site-packages (from pandas) (2.9.0.post0)\n",
      "Requirement already satisfied: pytz>=2020.1 in c:\\users\\baivab bhusal\\miniconda3\\envs\\csit82\\lib\\site-packages (from pandas) (2025.2)\n",
      "Requirement already satisfied: tzdata>=2022.7 in c:\\users\\baivab bhusal\\miniconda3\\envs\\csit82\\lib\\site-packages (from pandas) (2025.2)\n",
      "Requirement already satisfied: six>=1.5 in c:\\users\\baivab bhusal\\miniconda3\\envs\\csit82\\lib\\site-packages (from python-dateutil>=2.8.2->pandas) (1.17.0)\n"
     ]
    }
   ],
   "source": [
    "!pip install pandas"
   ]
  },
  {
   "cell_type": "code",
   "execution_count": 2,
   "id": "74d67ab0",
   "metadata": {},
   "outputs": [],
   "source": [
    "import pandas as pd"
   ]
  },
  {
   "cell_type": "markdown",
   "id": "1c16e10c",
   "metadata": {},
   "source": [
    "### pandas\n",
    "- series 1D array\n",
    "- dataframe 2D array"
   ]
  },
  {
   "cell_type": "markdown",
   "id": "14d0370c",
   "metadata": {},
   "source": [
    "#### Series"
   ]
  },
  {
   "cell_type": "code",
   "execution_count": 3,
   "id": "51c961a4",
   "metadata": {},
   "outputs": [
    {
     "data": {
      "text/plain": [
       "0    10\n",
       "1    20\n",
       "2    30\n",
       "3    40\n",
       "dtype: int64"
      ]
     },
     "execution_count": 3,
     "metadata": {},
     "output_type": "execute_result"
    }
   ],
   "source": [
    "# creating series from list and tuple\n",
    "s1=pd.Series([10,20,30,40])\n",
    "s1"
   ]
  },
  {
   "cell_type": "code",
   "execution_count": 4,
   "id": "94301fef",
   "metadata": {},
   "outputs": [
    {
     "data": {
      "text/plain": [
       "array([10, 20, 30, 40, 50])"
      ]
     },
     "execution_count": 4,
     "metadata": {},
     "output_type": "execute_result"
    }
   ],
   "source": [
    "import numpy as np\n",
    "a=np.arange(10,60,10)\n",
    "a"
   ]
  },
  {
   "cell_type": "code",
   "execution_count": 6,
   "id": "f1240976",
   "metadata": {},
   "outputs": [
    {
     "data": {
      "text/plain": [
       "0    10\n",
       "1    20\n",
       "2    30\n",
       "3    40\n",
       "4    50\n",
       "dtype: int64"
      ]
     },
     "execution_count": 6,
     "metadata": {},
     "output_type": "execute_result"
    }
   ],
   "source": [
    "s2=pd.Series(a)\n",
    "s2"
   ]
  },
  {
   "cell_type": "code",
   "execution_count": 8,
   "id": "24ba003e",
   "metadata": {},
   "outputs": [
    {
     "data": {
      "text/plain": [
       "0    10\n",
       "1    20\n",
       "2    30\n",
       "3    40\n",
       "4    50\n",
       "Name: Demo, dtype: int64"
      ]
     },
     "execution_count": 8,
     "metadata": {},
     "output_type": "execute_result"
    }
   ],
   "source": [
    "s2=pd.Series(a, name=\"Demo\")\n",
    "s2"
   ]
  },
  {
   "cell_type": "code",
   "execution_count": 10,
   "id": "ddcad98b",
   "metadata": {},
   "outputs": [
    {
     "data": {
      "text/plain": [
       "f     10\n",
       "s     20\n",
       "t     30\n",
       "fo    40\n",
       "fi    50\n",
       "Name: Demo, dtype: int64"
      ]
     },
     "execution_count": 10,
     "metadata": {},
     "output_type": "execute_result"
    }
   ],
   "source": [
    "labels=[\"f\",\"s\",\"t\",\"fo\",\"fi\"]\n",
    "s2=pd.Series(a, name=\"Demo\",index=labels)\n",
    "s2"
   ]
  },
  {
   "cell_type": "code",
   "execution_count": 11,
   "id": "6c05d6a5",
   "metadata": {},
   "outputs": [
    {
     "data": {
      "text/plain": [
       "np.int64(10)"
      ]
     },
     "execution_count": 11,
     "metadata": {},
     "output_type": "execute_result"
    }
   ],
   "source": [
    "s2.loc['f']"
   ]
  },
  {
   "cell_type": "code",
   "execution_count": 13,
   "id": "ac0aee6d",
   "metadata": {},
   "outputs": [
    {
     "data": {
      "text/plain": [
       "np.int64(30)"
      ]
     },
     "execution_count": 13,
     "metadata": {},
     "output_type": "execute_result"
    }
   ],
   "source": [
    "s2.iloc[2]"
   ]
  },
  {
   "cell_type": "code",
   "execution_count": 14,
   "id": "94013801",
   "metadata": {},
   "outputs": [
    {
     "data": {
      "text/plain": [
       "f     11\n",
       "s     21\n",
       "t     31\n",
       "fo    41\n",
       "fi    51\n",
       "Name: Demo, dtype: int64"
      ]
     },
     "execution_count": 14,
     "metadata": {},
     "output_type": "execute_result"
    }
   ],
   "source": [
    "s2.add(1)"
   ]
  },
  {
   "cell_type": "code",
   "execution_count": 15,
   "id": "b7db0f04",
   "metadata": {},
   "outputs": [
    {
     "data": {
      "text/plain": [
       "f     11\n",
       "s     21\n",
       "t     31\n",
       "fo    41\n",
       "fi    51\n",
       "Name: Demo, dtype: int64"
      ]
     },
     "execution_count": 15,
     "metadata": {},
     "output_type": "execute_result"
    }
   ],
   "source": [
    "s2+1"
   ]
  },
  {
   "cell_type": "code",
   "execution_count": 16,
   "id": "0c8a9373",
   "metadata": {},
   "outputs": [
    {
     "data": {
      "text/plain": [
       "f      30\n",
       "s      60\n",
       "t      90\n",
       "fo    120\n",
       "fi    150\n",
       "Name: Demo, dtype: int64"
      ]
     },
     "execution_count": 16,
     "metadata": {},
     "output_type": "execute_result"
    }
   ],
   "source": [
    "s2*3"
   ]
  },
  {
   "cell_type": "code",
   "execution_count": 17,
   "id": "fec9cf3b",
   "metadata": {},
   "outputs": [
    {
     "data": {
      "text/plain": [
       "f      50\n",
       "s     100\n",
       "t     150\n",
       "fo    200\n",
       "fi    250\n",
       "Name: Demo, dtype: int64"
      ]
     },
     "execution_count": 17,
     "metadata": {},
     "output_type": "execute_result"
    }
   ],
   "source": [
    "s2.multiply(5)"
   ]
  },
  {
   "cell_type": "code",
   "execution_count": 18,
   "id": "63d75286",
   "metadata": {},
   "outputs": [
    {
     "data": {
      "text/plain": [
       "f    -0.839072\n",
       "s     0.408082\n",
       "t     0.154251\n",
       "fo   -0.666938\n",
       "fi    0.964966\n",
       "Name: Demo, dtype: float64"
      ]
     },
     "execution_count": 18,
     "metadata": {},
     "output_type": "execute_result"
    }
   ],
   "source": [
    "np.cos(s2)"
   ]
  },
  {
   "cell_type": "code",
   "execution_count": 19,
   "id": "77d997c9",
   "metadata": {},
   "outputs": [
    {
     "data": {
      "text/plain": [
       "np.int64(10)"
      ]
     },
     "execution_count": 19,
     "metadata": {},
     "output_type": "execute_result"
    }
   ],
   "source": [
    "s2.f"
   ]
  },
  {
   "cell_type": "code",
   "execution_count": 21,
   "id": "9a065d11",
   "metadata": {},
   "outputs": [
    {
     "data": {
      "text/plain": [
       "np.int64(50)"
      ]
     },
     "execution_count": 21,
     "metadata": {},
     "output_type": "execute_result"
    }
   ],
   "source": [
    "s2.max()"
   ]
  },
  {
   "cell_type": "code",
   "execution_count": 22,
   "id": "c54b3c83",
   "metadata": {},
   "outputs": [
    {
     "data": {
      "text/plain": [
       "np.int64(4)"
      ]
     },
     "execution_count": 22,
     "metadata": {},
     "output_type": "execute_result"
    }
   ],
   "source": [
    "s2.argmax()"
   ]
  },
  {
   "cell_type": "code",
   "execution_count": null,
   "id": "7030f746",
   "metadata": {},
   "outputs": [],
   "source": [
    "s2=np.cos(s2)\n",
    "\n"
   ]
  },
  {
   "cell_type": "code",
   "execution_count": 24,
   "id": "6075b97e",
   "metadata": {},
   "outputs": [
    {
     "data": {
      "text/plain": [
       "f    -0.839072\n",
       "s     0.408082\n",
       "t     0.154251\n",
       "fo   -0.666938\n",
       "fi    0.964966\n",
       "Name: Demo, dtype: float64"
      ]
     },
     "execution_count": 24,
     "metadata": {},
     "output_type": "execute_result"
    }
   ],
   "source": [
    "s2"
   ]
  },
  {
   "cell_type": "markdown",
   "id": "9a5170b2",
   "metadata": {},
   "source": [
    "#### Dataframe"
   ]
  },
  {
   "cell_type": "code",
   "execution_count": 25,
   "id": "9ddbd946",
   "metadata": {},
   "outputs": [
    {
     "data": {
      "text/plain": [
       "{'math': array([30, 55, 39, 42, 56, 49, 49, 36, 34, 50], dtype=int32),\n",
       " 'science': array([52, 48, 59, 55, 60, 56, 53, 68, 55, 64], dtype=int32),\n",
       " 'computer': array([68, 70, 69, 64, 61, 69, 73, 72, 61, 77], dtype=int32)}"
      ]
     },
     "execution_count": 25,
     "metadata": {},
     "output_type": "execute_result"
    }
   ],
   "source": [
    "#creating dataframe from dictionery\n",
    "marks={\n",
    "    \"math\":np.random.randint(30,60,size=(10,)),\n",
    "    \"science\":np.random.randint(47,70,size=(10,)),\n",
    "    \"computer\":np.random.randint(60,80,size=(10,)),\n",
    "}\n",
    "marks"
   ]
  },
  {
   "cell_type": "code",
   "execution_count": 26,
   "id": "28990733",
   "metadata": {},
   "outputs": [
    {
     "data": {
      "text/html": [
       "<div>\n",
       "<style scoped>\n",
       "    .dataframe tbody tr th:only-of-type {\n",
       "        vertical-align: middle;\n",
       "    }\n",
       "\n",
       "    .dataframe tbody tr th {\n",
       "        vertical-align: top;\n",
       "    }\n",
       "\n",
       "    .dataframe thead th {\n",
       "        text-align: right;\n",
       "    }\n",
       "</style>\n",
       "<table border=\"1\" class=\"dataframe\">\n",
       "  <thead>\n",
       "    <tr style=\"text-align: right;\">\n",
       "      <th></th>\n",
       "      <th>math</th>\n",
       "      <th>science</th>\n",
       "      <th>computer</th>\n",
       "    </tr>\n",
       "  </thead>\n",
       "  <tbody>\n",
       "    <tr>\n",
       "      <th>0</th>\n",
       "      <td>30</td>\n",
       "      <td>52</td>\n",
       "      <td>68</td>\n",
       "    </tr>\n",
       "    <tr>\n",
       "      <th>1</th>\n",
       "      <td>55</td>\n",
       "      <td>48</td>\n",
       "      <td>70</td>\n",
       "    </tr>\n",
       "    <tr>\n",
       "      <th>2</th>\n",
       "      <td>39</td>\n",
       "      <td>59</td>\n",
       "      <td>69</td>\n",
       "    </tr>\n",
       "    <tr>\n",
       "      <th>3</th>\n",
       "      <td>42</td>\n",
       "      <td>55</td>\n",
       "      <td>64</td>\n",
       "    </tr>\n",
       "    <tr>\n",
       "      <th>4</th>\n",
       "      <td>56</td>\n",
       "      <td>60</td>\n",
       "      <td>61</td>\n",
       "    </tr>\n",
       "    <tr>\n",
       "      <th>5</th>\n",
       "      <td>49</td>\n",
       "      <td>56</td>\n",
       "      <td>69</td>\n",
       "    </tr>\n",
       "    <tr>\n",
       "      <th>6</th>\n",
       "      <td>49</td>\n",
       "      <td>53</td>\n",
       "      <td>73</td>\n",
       "    </tr>\n",
       "    <tr>\n",
       "      <th>7</th>\n",
       "      <td>36</td>\n",
       "      <td>68</td>\n",
       "      <td>72</td>\n",
       "    </tr>\n",
       "    <tr>\n",
       "      <th>8</th>\n",
       "      <td>34</td>\n",
       "      <td>55</td>\n",
       "      <td>61</td>\n",
       "    </tr>\n",
       "    <tr>\n",
       "      <th>9</th>\n",
       "      <td>50</td>\n",
       "      <td>64</td>\n",
       "      <td>77</td>\n",
       "    </tr>\n",
       "  </tbody>\n",
       "</table>\n",
       "</div>"
      ],
      "text/plain": [
       "   math  science  computer\n",
       "0    30       52        68\n",
       "1    55       48        70\n",
       "2    39       59        69\n",
       "3    42       55        64\n",
       "4    56       60        61\n",
       "5    49       56        69\n",
       "6    49       53        73\n",
       "7    36       68        72\n",
       "8    34       55        61\n",
       "9    50       64        77"
      ]
     },
     "execution_count": 26,
     "metadata": {},
     "output_type": "execute_result"
    }
   ],
   "source": [
    "df= pd.DataFrame(marks)\n",
    "df"
   ]
  },
  {
   "cell_type": "code",
   "execution_count": 27,
   "id": "bf14fbfe",
   "metadata": {},
   "outputs": [
    {
     "data": {
      "text/plain": [
       "[[30, 52, 68],\n",
       " [55, 48, 70],\n",
       " [39, 59, 69],\n",
       " [42, 55, 64],\n",
       " [56, 60, 61],\n",
       " [49, 56, 69],\n",
       " [49, 53, 73],\n",
       " [36, 68, 72],\n",
       " [34, 55, 61],\n",
       " [50, 64, 77]]"
      ]
     },
     "execution_count": 27,
     "metadata": {},
     "output_type": "execute_result"
    }
   ],
   "source": [
    "marks_1=[\n",
    "[30,52,\t68],\n",
    "[55,48,\t70],\n",
    "[39,59,\t69],\n",
    "[42,55,\t64],\n",
    "[56,60,\t61],\n",
    "[49,56,\t69],\n",
    "[49,53,\t73],\n",
    "[36,68,\t72],\n",
    "[34,55,\t61],\n",
    "[50,64,\t77],\n",
    "]\n",
    "marks_1"
   ]
  },
  {
   "cell_type": "code",
   "execution_count": 29,
   "id": "c10e70d1",
   "metadata": {},
   "outputs": [
    {
     "data": {
      "text/html": [
       "<div>\n",
       "<style scoped>\n",
       "    .dataframe tbody tr th:only-of-type {\n",
       "        vertical-align: middle;\n",
       "    }\n",
       "\n",
       "    .dataframe tbody tr th {\n",
       "        vertical-align: top;\n",
       "    }\n",
       "\n",
       "    .dataframe thead th {\n",
       "        text-align: right;\n",
       "    }\n",
       "</style>\n",
       "<table border=\"1\" class=\"dataframe\">\n",
       "  <thead>\n",
       "    <tr style=\"text-align: right;\">\n",
       "      <th></th>\n",
       "      <th>Math</th>\n",
       "      <th>Science</th>\n",
       "      <th>Computer</th>\n",
       "    </tr>\n",
       "  </thead>\n",
       "  <tbody>\n",
       "    <tr>\n",
       "      <th>0</th>\n",
       "      <td>30</td>\n",
       "      <td>52</td>\n",
       "      <td>68</td>\n",
       "    </tr>\n",
       "    <tr>\n",
       "      <th>1</th>\n",
       "      <td>55</td>\n",
       "      <td>48</td>\n",
       "      <td>70</td>\n",
       "    </tr>\n",
       "    <tr>\n",
       "      <th>2</th>\n",
       "      <td>39</td>\n",
       "      <td>59</td>\n",
       "      <td>69</td>\n",
       "    </tr>\n",
       "    <tr>\n",
       "      <th>3</th>\n",
       "      <td>42</td>\n",
       "      <td>55</td>\n",
       "      <td>64</td>\n",
       "    </tr>\n",
       "    <tr>\n",
       "      <th>4</th>\n",
       "      <td>56</td>\n",
       "      <td>60</td>\n",
       "      <td>61</td>\n",
       "    </tr>\n",
       "    <tr>\n",
       "      <th>5</th>\n",
       "      <td>49</td>\n",
       "      <td>56</td>\n",
       "      <td>69</td>\n",
       "    </tr>\n",
       "    <tr>\n",
       "      <th>6</th>\n",
       "      <td>49</td>\n",
       "      <td>53</td>\n",
       "      <td>73</td>\n",
       "    </tr>\n",
       "    <tr>\n",
       "      <th>7</th>\n",
       "      <td>36</td>\n",
       "      <td>68</td>\n",
       "      <td>72</td>\n",
       "    </tr>\n",
       "    <tr>\n",
       "      <th>8</th>\n",
       "      <td>34</td>\n",
       "      <td>55</td>\n",
       "      <td>61</td>\n",
       "    </tr>\n",
       "    <tr>\n",
       "      <th>9</th>\n",
       "      <td>50</td>\n",
       "      <td>64</td>\n",
       "      <td>77</td>\n",
       "    </tr>\n",
       "  </tbody>\n",
       "</table>\n",
       "</div>"
      ],
      "text/plain": [
       "   Math  Science  Computer\n",
       "0    30       52        68\n",
       "1    55       48        70\n",
       "2    39       59        69\n",
       "3    42       55        64\n",
       "4    56       60        61\n",
       "5    49       56        69\n",
       "6    49       53        73\n",
       "7    36       68        72\n",
       "8    34       55        61\n",
       "9    50       64        77"
      ]
     },
     "execution_count": 29,
     "metadata": {},
     "output_type": "execute_result"
    }
   ],
   "source": [
    "df2=pd.DataFrame(marks_1,columns=[\"Math\",\"Science\",\"Computer\"])\n",
    "df2"
   ]
  }
 ],
 "metadata": {
  "kernelspec": {
   "display_name": "csit82",
   "language": "python",
   "name": "python3"
  },
  "language_info": {
   "codemirror_mode": {
    "name": "ipython",
    "version": 3
   },
   "file_extension": ".py",
   "mimetype": "text/x-python",
   "name": "python",
   "nbconvert_exporter": "python",
   "pygments_lexer": "ipython3",
   "version": "3.12.11"
  }
 },
 "nbformat": 4,
 "nbformat_minor": 5
}
