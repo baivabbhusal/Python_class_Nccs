{
 "cells": [
  {
   "cell_type": "markdown",
   "id": "618b0680",
   "metadata": {},
   "source": [
    "### While"
   ]
  },
  {
   "cell_type": "code",
   "execution_count": 1,
   "id": "b391e06c",
   "metadata": {},
   "outputs": [
    {
     "name": "stdout",
     "output_type": "stream",
     "text": [
      "value=0\n",
      "value=1\n",
      "value=2\n",
      "value=3\n",
      "value=4\n",
      "value=5\n",
      "value=6\n",
      "value=7\n",
      "value=8\n",
      "value=9\n",
      "value=10\n"
     ]
    }
   ],
   "source": [
    "value=0\n",
    "while value<=10:\n",
    "   print(f\"{value=}\")\n",
    "   value+=1\n",
    "   "
   ]
  },
  {
   "cell_type": "code",
   "execution_count": null,
   "id": "9c08277e",
   "metadata": {},
   "outputs": [],
   "source": [
    "ip_value=input(\"Enter the value:\")\n",
    "while ip_value!=\"stop\":\n",
    "    print(ip_value)\n",
    "    ip_value=input(\"enter the value\")"
   ]
  }
 ],
 "metadata": {
  "kernelspec": {
   "display_name": "csit82",
   "language": "python",
   "name": "python3"
  },
  "language_info": {
   "codemirror_mode": {
    "name": "ipython",
    "version": 3
   },
   "file_extension": ".py",
   "mimetype": "text/x-python",
   "name": "python",
   "nbconvert_exporter": "python",
   "pygments_lexer": "ipython3",
   "version": "3.12.11"
  }
 },
 "nbformat": 4,
 "nbformat_minor": 5
}
