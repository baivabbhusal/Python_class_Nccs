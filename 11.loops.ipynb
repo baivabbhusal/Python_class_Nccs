{
 "cells": [
  {
   "cell_type": "markdown",
   "id": "618b0680",
   "metadata": {},
   "source": [
    "### While"
   ]
  },
  {
   "cell_type": "code",
   "execution_count": 1,
   "id": "b391e06c",
   "metadata": {},
   "outputs": [
    {
     "name": "stdout",
     "output_type": "stream",
     "text": [
      "value=0\n",
      "value=1\n",
      "value=2\n",
      "value=3\n",
      "value=4\n",
      "value=5\n",
      "value=6\n",
      "value=7\n",
      "value=8\n",
      "value=9\n",
      "value=10\n"
     ]
    }
   ],
   "source": [
    "value=0\n",
    "while value<=10:\n",
    "   print(f\"{value=}\")\n",
    "   value+=1\n",
    "   "
   ]
  },
  {
   "cell_type": "code",
   "execution_count": null,
   "id": "9c08277e",
   "metadata": {},
   "outputs": [],
   "source": [
    "ip_value=input(\"Enter the value:\")\n",
    "while ip_value!=\"stop\":\n",
    "    print(ip_value)\n",
    "    ip_value=input(\"enter the value\")"
   ]
  },
  {
   "cell_type": "markdown",
   "id": "ef4302ea",
   "metadata": {},
   "source": [
    " start,stop,step=0,5,1\n",
    " range(start,stop,step)"
   ]
  },
  {
   "cell_type": "code",
   "execution_count": 3,
   "id": "da66c4d1",
   "metadata": {},
   "outputs": [
    {
     "name": "stdout",
     "output_type": "stream",
     "text": [
      "2\n",
      "4\n",
      "6\n",
      "8\n",
      "10\n"
     ]
    }
   ],
   "source": [
    "for i in range(2,11,2):\n",
    "    print(i)"
   ]
  },
  {
   "cell_type": "code",
   "execution_count": null,
   "id": "312c1f34",
   "metadata": {},
   "outputs": [
    {
     "data": {
      "text/plain": [
       "range(0, 5)"
      ]
     },
     "execution_count": 4,
     "metadata": {},
     "output_type": "execute_result"
    }
   ],
   "source": [
    "start,stop,step=0,5,1\n",
    "range(start,stop,step)"
   ]
  },
  {
   "cell_type": "code",
   "execution_count": 5,
   "id": "a62d2d07",
   "metadata": {},
   "outputs": [
    {
     "data": {
      "text/plain": [
       "[0, 1, 2, 3, 4]"
      ]
     },
     "execution_count": 5,
     "metadata": {},
     "output_type": "execute_result"
    }
   ],
   "source": [
    "list(range(start,stop,step))"
   ]
  },
  {
   "cell_type": "code",
   "execution_count": 6,
   "id": "10156ac7",
   "metadata": {},
   "outputs": [
    {
     "data": {
      "text/plain": [
       "(range(3, 7), [3, 4, 5, 6])"
      ]
     },
     "execution_count": 6,
     "metadata": {},
     "output_type": "execute_result"
    }
   ],
   "source": [
    "range(3,7),list(range(3,7))"
   ]
  },
  {
   "cell_type": "code",
   "execution_count": 7,
   "id": "f215e103",
   "metadata": {},
   "outputs": [
    {
     "data": {
      "text/plain": [
       "88"
      ]
     },
     "execution_count": 7,
     "metadata": {},
     "output_type": "execute_result"
    }
   ],
   "source": [
    "import sys\n",
    "l=[4,5,63,4]\n",
    "sys.getsizeof(l)"
   ]
  },
  {
   "cell_type": "code",
   "execution_count": 8,
   "id": "962b488e",
   "metadata": {},
   "outputs": [
    {
     "data": {
      "text/plain": [
       "48"
      ]
     },
     "execution_count": 8,
     "metadata": {},
     "output_type": "execute_result"
    }
   ],
   "source": [
    "sys.getsizeof(range(0,100))"
   ]
  },
  {
   "cell_type": "code",
   "execution_count": 9,
   "id": "9d7c70ed",
   "metadata": {},
   "outputs": [
    {
     "data": {
      "text/plain": [
       "1656"
      ]
     },
     "execution_count": 9,
     "metadata": {},
     "output_type": "execute_result"
    }
   ],
   "source": [
    "sys.getsizeof(list(range(0,200)))"
   ]
  },
  {
   "cell_type": "code",
   "execution_count": 10,
   "id": "0bcff986",
   "metadata": {},
   "outputs": [
    {
     "name": "stdout",
     "output_type": "stream",
     "text": [
      "0\n",
      "1\n",
      "2\n",
      "3\n",
      "4\n"
     ]
    }
   ],
   "source": [
    "for i in range(5):\n",
    "    print(i)"
   ]
  },
  {
   "cell_type": "code",
   "execution_count": 12,
   "id": "fcdc07dc",
   "metadata": {},
   "outputs": [
    {
     "name": "stdout",
     "output_type": "stream",
     "text": [
      "prime\n"
     ]
    }
   ],
   "source": [
    "#checking prime\n",
    "for i in range(2,7):\n",
    "    if 7%i==0:\n",
    "        print(\"not prime\")\n",
    "        break\n",
    "    else:\n",
    "        print(\"prime\")\n",
    "        break"
   ]
  },
  {
   "cell_type": "code",
   "execution_count": 13,
   "id": "a0e970ae",
   "metadata": {},
   "outputs": [
    {
     "name": "stdout",
     "output_type": "stream",
     "text": [
      "1\n",
      "3\n",
      "5\n",
      "7\n"
     ]
    }
   ],
   "source": [
    "l=[1,3,5,7]\n",
    "for ele in l:\n",
    "    print (ele)"
   ]
  },
  {
   "cell_type": "code",
   "execution_count": 15,
   "id": "7f1ed87e",
   "metadata": {},
   "outputs": [
    {
     "name": "stdout",
     "output_type": "stream",
     "text": [
      "[2, 6, 10, 14]\n"
     ]
    }
   ],
   "source": [
    "l=[1,3,5,7]\n",
    "k=[]\n",
    "for ele in l:\n",
    "    k.append(ele*2)\n",
    "print(k)"
   ]
  },
  {
   "cell_type": "code",
   "execution_count": 16,
   "id": "2aff2e2b",
   "metadata": {},
   "outputs": [
    {
     "name": "stdout",
     "output_type": "stream",
     "text": [
      "ele=(0, 1)\n",
      "ele=(1, 3)\n",
      "ele=(2, 5)\n",
      "ele=(3, 7)\n"
     ]
    }
   ],
   "source": [
    "l=[1,3,5,7]\n",
    "for ele in enumerate(l):\n",
    "    print(f\"{ele=}\")"
   ]
  },
  {
   "cell_type": "code",
   "execution_count": 21,
   "id": "59649ac7",
   "metadata": {},
   "outputs": [
    {
     "name": "stdout",
     "output_type": "stream",
     "text": [
      "ele=(2, 9)\n",
      "ele=(3, 8)\n",
      "ele=(4, 6)\n",
      "ele=(3, 4)\n"
     ]
    }
   ],
   "source": [
    "l1=[2,3,4,3]\n",
    "l2=[9,8,6,4]\n",
    "for ele in zip(l1,l2):\n",
    "    print(f\"{ele=}\")"
   ]
  },
  {
   "cell_type": "code",
   "execution_count": 22,
   "id": "298c5673",
   "metadata": {},
   "outputs": [
    {
     "name": "stdout",
     "output_type": "stream",
     "text": [
      "ele=(2, 5, 9)\n",
      "ele=(3, 4, 8)\n",
      "ele=(4, 2, 6)\n",
      "ele=(3, 1, 4)\n"
     ]
    }
   ],
   "source": [
    "l1=[2,3,4,3]\n",
    "l2=[5,4,2,1]\n",
    "l3=[9,8,6,4]\n",
    "for ele in zip(l1,l2,l3):\n",
    "    print(f\"{ele=}\")"
   ]
  },
  {
   "cell_type": "code",
   "execution_count": 23,
   "id": "3257fecb",
   "metadata": {},
   "outputs": [
    {
     "name": "stdout",
     "output_type": "stream",
     "text": [
      "ele=(2, 5, 9)\n",
      "ele=(3, 4, 8)\n",
      "ele=(4, 2, 6)\n"
     ]
    }
   ],
   "source": [
    "l1=[2,3,4,3]\n",
    "l2=[5,4,2]\n",
    "l3=[9,8,6,4]\n",
    "for ele in zip(l1,l2,l3):\n",
    "    print(f\"{ele=}\")"
   ]
  },
  {
   "cell_type": "code",
   "execution_count": 24,
   "id": "6e0e35cc",
   "metadata": {},
   "outputs": [
    {
     "name": "stdout",
     "output_type": "stream",
     "text": [
      "n\n",
      "i\n",
      "r\n",
      "j\n",
      "a\n",
      "k\n",
      " \n",
      "b\n",
      "h\n",
      "a\n",
      "i\n"
     ]
    }
   ],
   "source": [
    "str=\"nirjak bhai\"\n",
    "for i in str:\n",
    "    print(i)"
   ]
  },
  {
   "cell_type": "code",
   "execution_count": 26,
   "id": "ea83d3e1",
   "metadata": {},
   "outputs": [
    {
     "data": {
      "text/plain": [
       "['nirjak', 'bhai']"
      ]
     },
     "execution_count": 26,
     "metadata": {},
     "output_type": "execute_result"
    }
   ],
   "source": [
    "str.split(\" \")"
   ]
  },
  {
   "cell_type": "code",
   "execution_count": 27,
   "id": "3d46c891",
   "metadata": {},
   "outputs": [
    {
     "name": "stdout",
     "output_type": "stream",
     "text": [
      "ele='a'\n",
      "ele='b'\n",
      "ele='c'\n"
     ]
    }
   ],
   "source": [
    "d={\"a\":1,\"b\":2,\"c\":3}\n",
    "for ele in d:\n",
    "    print(f\"{ele=}\")"
   ]
  },
  {
   "cell_type": "code",
   "execution_count": 29,
   "id": "d5ec8963",
   "metadata": {},
   "outputs": [
    {
     "data": {
      "text/plain": [
       "dict_items([('a', 1), ('b', 2), ('c', 3)])"
      ]
     },
     "execution_count": 29,
     "metadata": {},
     "output_type": "execute_result"
    }
   ],
   "source": [
    "d.items()"
   ]
  },
  {
   "cell_type": "code",
   "execution_count": 34,
   "id": "f784dfa1",
   "metadata": {},
   "outputs": [
    {
     "name": "stdout",
     "output_type": "stream",
     "text": [
      "ele=('a', 1),key=a,value=1\n",
      "ele=('b', 2),key=b,value=2\n",
      "ele=('c', 3),key=c,value=3\n"
     ]
    }
   ],
   "source": [
    "d={\"a\":1,\"b\":2,\"c\":3}\n",
    "for ele in d.items():\n",
    "    print(f\"{ele=},key={ele[0]},value={ele[1]}\")"
   ]
  },
  {
   "cell_type": "code",
   "execution_count": 35,
   "id": "e7c7fc40",
   "metadata": {},
   "outputs": [
    {
     "name": "stdout",
     "output_type": "stream",
     "text": [
      "key=a,value=1\n",
      "key=b,value=2\n",
      "key=c,value=3\n"
     ]
    }
   ],
   "source": [
    "d={\"a\":1,\"b\":2,\"c\":3}\n",
    "for k,v in d.items():\n",
    "    print(f\"key={k},value={v}\")"
   ]
  },
  {
   "cell_type": "code",
   "execution_count": 38,
   "id": "0eb4fe72",
   "metadata": {},
   "outputs": [
    {
     "name": "stdout",
     "output_type": "stream",
     "text": [
      "index=0,value=1\n",
      "index=1,value=3\n",
      "index=2,value=5\n",
      "index=3,value=7\n"
     ]
    }
   ],
   "source": [
    "l=[1,3,5,7]\n",
    "for k,v in enumerate(l):\n",
    "    index=k\n",
    "    value=v\n",
    "    print(f\"{index=},{value=}\")"
   ]
  }
 ],
 "metadata": {
  "kernelspec": {
   "display_name": "csit82",
   "language": "python",
   "name": "python3"
  },
  "language_info": {
   "codemirror_mode": {
    "name": "ipython",
    "version": 3
   },
   "file_extension": ".py",
   "mimetype": "text/x-python",
   "name": "python",
   "nbconvert_exporter": "python",
   "pygments_lexer": "ipython3",
   "version": "3.12.11"
  }
 },
 "nbformat": 4,
 "nbformat_minor": 5
}
