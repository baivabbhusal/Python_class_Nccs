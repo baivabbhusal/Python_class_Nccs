{
 "cells": [
  {
   "cell_type": "code",
   "execution_count": 4,
   "id": "fdc3ec04",
   "metadata": {},
   "outputs": [
    {
     "name": "stdout",
     "output_type": "stream",
     "text": [
      "baivab\n"
     ]
    }
   ],
   "source": [
    "print(\"baivab\")"
   ]
  },
  {
   "cell_type": "code",
   "execution_count": 3,
   "id": "51e1256d",
   "metadata": {},
   "outputs": [
    {
     "name": "stdout",
     "output_type": "stream",
     "text": [
      "Hello sir\n"
     ]
    }
   ],
   "source": [
    "print(\"Hello sir\")"
   ]
  }
 ],
 "metadata": {
  "kernelspec": {
   "display_name": "csit82",
   "language": "python",
   "name": "python3"
  },
  "language_info": {
   "codemirror_mode": {
    "name": "ipython",
    "version": 3
   },
   "file_extension": ".py",
   "mimetype": "text/x-python",
   "name": "python",
   "nbconvert_exporter": "python",
   "pygments_lexer": "ipython3",
   "version": "3.12.11"
  }
 },
 "nbformat": 4,
 "nbformat_minor": 5
}
