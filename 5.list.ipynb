{
 "cells": [
  {
   "cell_type": "code",
   "execution_count": 67,
   "id": "daf9061b",
   "metadata": {},
   "outputs": [
    {
     "name": "stdout",
     "output_type": "stream",
     "text": [
      "[]\n",
      "<class 'list'>\n"
     ]
    }
   ],
   "source": [
    "l1=[]\n",
    "print(l1)\n",
    "print(type(l1))"
   ]
  },
  {
   "cell_type": "code",
   "execution_count": 68,
   "id": "e7d96877",
   "metadata": {},
   "outputs": [
    {
     "name": "stdout",
     "output_type": "stream",
     "text": [
      "[]\n",
      "<class 'list'>\n"
     ]
    }
   ],
   "source": [
    "l2=list()\n",
    "print(l2)\n",
    "print(type(l2))"
   ]
  },
  {
   "cell_type": "code",
   "execution_count": 69,
   "id": "1cd96229",
   "metadata": {},
   "outputs": [
    {
     "name": "stdout",
     "output_type": "stream",
     "text": [
      "[1, 'This is class', 34.4, []]\n"
     ]
    }
   ],
   "source": [
    "#creating list with default parameter\n",
    "l3=[1,\"This is class\",34.4,l1]\n",
    "print(l3)"
   ]
  },
  {
   "cell_type": "code",
   "execution_count": 70,
   "id": "ead20ac9",
   "metadata": {},
   "outputs": [
    {
     "data": {
      "text/plain": [
       "[200]"
      ]
     },
     "execution_count": 70,
     "metadata": {},
     "output_type": "execute_result"
    }
   ],
   "source": [
    "l1.append(200)\n",
    "l1"
   ]
  },
  {
   "cell_type": "code",
   "execution_count": 71,
   "id": "595ef1b7",
   "metadata": {},
   "outputs": [
    {
     "data": {
      "text/plain": [
       "[200, 'This is python class']"
      ]
     },
     "execution_count": 71,
     "metadata": {},
     "output_type": "execute_result"
    }
   ],
   "source": [
    "##Elements are added at the end of list\n",
    "l1.append(\"This is python class\")\n",
    "l1"
   ]
  },
  {
   "cell_type": "code",
   "execution_count": 72,
   "id": "041ca96f",
   "metadata": {},
   "outputs": [
    {
     "data": {
      "text/plain": [
       "[200, True, 'This is python class']"
      ]
     },
     "execution_count": 72,
     "metadata": {},
     "output_type": "execute_result"
    }
   ],
   "source": [
    "##adding element to the particular index of the list\n",
    "l1.insert(1,True)\n",
    "l1"
   ]
  },
  {
   "cell_type": "code",
   "execution_count": 73,
   "id": "cd56a2fb",
   "metadata": {},
   "outputs": [
    {
     "data": {
      "text/plain": [
       "[200, True, 'This is python class', 10001, 0.343434, 'This ias a string']"
      ]
     },
     "execution_count": 73,
     "metadata": {},
     "output_type": "execute_result"
    }
   ],
   "source": [
    "##add at last of list\n",
    "l1.append(10001)\n",
    "l1.append(0.343434)\n",
    "l1.append(\"This ias a string\")\n",
    "l1"
   ]
  },
  {
   "cell_type": "code",
   "execution_count": 74,
   "id": "91ac9b73",
   "metadata": {},
   "outputs": [
    {
     "data": {
      "text/plain": [
       "[200, True, 'This is python class', 0.343434, 'This ias a string']"
      ]
     },
     "execution_count": 74,
     "metadata": {},
     "output_type": "execute_result"
    }
   ],
   "source": [
    "#removing element from the list\n",
    "l1.remove(10001)\n",
    "l1"
   ]
  },
  {
   "cell_type": "code",
   "execution_count": 75,
   "id": "1edfb812",
   "metadata": {},
   "outputs": [
    {
     "name": "stdout",
     "output_type": "stream",
     "text": [
      "This ias a string\n",
      "[200, True, 'This is python class', 0.343434]\n"
     ]
    }
   ],
   "source": [
    "#removes last element from list concept of stack and return value too\n",
    "returned_value=l1.pop()\n",
    "print(returned_value)\n",
    "print(l1)"
   ]
  },
  {
   "cell_type": "code",
   "execution_count": 76,
   "id": "b78ddad1",
   "metadata": {},
   "outputs": [
    {
     "data": {
      "text/plain": [
       "[200, 'This is python class', 0.343434]"
      ]
     },
     "execution_count": 76,
     "metadata": {},
     "output_type": "execute_result"
    }
   ],
   "source": [
    "l1.pop(1)\n",
    "l1"
   ]
  },
  {
   "cell_type": "code",
   "execution_count": 77,
   "id": "680f4caf",
   "metadata": {},
   "outputs": [
    {
     "data": {
      "text/plain": [
       "1"
      ]
     },
     "execution_count": 77,
     "metadata": {},
     "output_type": "execute_result"
    }
   ],
   "source": [
    "l1.count(200)  #counts the number of times an element appears in the list"
   ]
  },
  {
   "cell_type": "code",
   "execution_count": 78,
   "id": "6d8b85f9",
   "metadata": {},
   "outputs": [
    {
     "data": {
      "text/plain": [
       "1"
      ]
     },
     "execution_count": 78,
     "metadata": {},
     "output_type": "execute_result"
    }
   ],
   "source": [
    "#returns the index of the first occurrence of the element in the list\n",
    "l1.index( 'This is python class')  "
   ]
  },
  {
   "cell_type": "code",
   "execution_count": 79,
   "id": "98018b01",
   "metadata": {},
   "outputs": [
    {
     "name": "stdout",
     "output_type": "stream",
     "text": [
      "0.343434\n"
     ]
    }
   ],
   "source": [
    "##accessing elements of list\n",
    "print(l1[2])"
   ]
  },
  {
   "cell_type": "code",
   "execution_count": 80,
   "id": "5ad39f18",
   "metadata": {},
   "outputs": [
    {
     "name": "stdout",
     "output_type": "stream",
     "text": [
      "[200, 'This is python class', 0.6969]\n"
     ]
    }
   ],
   "source": [
    "#updating value at particular index\n",
    "l1[2]=0.6969\n",
    "print(l1)"
   ]
  },
  {
   "cell_type": "code",
   "execution_count": 81,
   "id": "ebf12add",
   "metadata": {},
   "outputs": [
    {
     "name": "stdout",
     "output_type": "stream",
     "text": [
      "[200, 'This is python class']\n"
     ]
    }
   ],
   "source": [
    "print(l1[0:2]) #slicing the list, returns a new list with elements from index 0 to 1"
   ]
  },
  {
   "cell_type": "code",
   "execution_count": 82,
   "id": "f3c97d57",
   "metadata": {},
   "outputs": [
    {
     "name": "stdout",
     "output_type": "stream",
     "text": [
      "0.6969\n",
      "This is python class\n"
     ]
    }
   ],
   "source": [
    "#accessing elements with negative index\n",
    "print(l1[-1])  #last element\n",
    "print(l1[-2])  #second last element"
   ]
  },
  {
   "cell_type": "code",
   "execution_count": 83,
   "id": "a3981fce",
   "metadata": {},
   "outputs": [
    {
     "data": {
      "text/plain": [
       "[0.6969, 'This is python class', 200]"
      ]
     },
     "execution_count": 83,
     "metadata": {},
     "output_type": "execute_result"
    }
   ],
   "source": [
    "l1.reverse()\n",
    "l1"
   ]
  },
  {
   "cell_type": "code",
   "execution_count": 84,
   "id": "cbbb8f06",
   "metadata": {},
   "outputs": [
    {
     "data": {
      "text/plain": [
       "[1, 2, 3, 4, 5, 6, 7, 8, 9, 10]"
      ]
     },
     "execution_count": 84,
     "metadata": {},
     "output_type": "execute_result"
    }
   ],
   "source": [
    "a=[1,2,3,4,5]\n",
    "b=[6,7,8,9,10]\n",
    "c=a+b\n",
    "c"
   ]
  },
  {
   "cell_type": "code",
   "execution_count": 85,
   "id": "463c1fc6",
   "metadata": {},
   "outputs": [
    {
     "data": {
      "text/plain": [
       "[1, 2, 3, 4, 5, 6, 7, 8, 9, 10]"
      ]
     },
     "execution_count": 85,
     "metadata": {},
     "output_type": "execute_result"
    }
   ],
   "source": [
    "a.extend(b)\n",
    "a"
   ]
  },
  {
   "cell_type": "code",
   "execution_count": 86,
   "id": "0a41ea41",
   "metadata": {},
   "outputs": [
    {
     "name": "stdout",
     "output_type": "stream",
     "text": [
      "[3, 9]\n",
      "[4, 8, 3, 9]\n"
     ]
    }
   ],
   "source": [
    "c=[3,9]\n",
    "d=[4,8]\n",
    "d.extend(c)\n",
    "print(c)\n",
    "print(d)"
   ]
  },
  {
   "cell_type": "code",
   "execution_count": 87,
   "id": "e67d4dc8",
   "metadata": {},
   "outputs": [
    {
     "data": {
      "text/plain": [
       "[1, 2, 4, 5, 9]"
      ]
     },
     "execution_count": 87,
     "metadata": {},
     "output_type": "execute_result"
    }
   ],
   "source": [
    "#Ascending order sort\n",
    "d=[2,4,1,9,5]\n",
    "d.sort()\n",
    "d"
   ]
  },
  {
   "cell_type": "code",
   "execution_count": 88,
   "id": "152c0b9c",
   "metadata": {},
   "outputs": [
    {
     "data": {
      "text/plain": [
       "[9, 5, 4, 2, 1]"
      ]
     },
     "execution_count": 88,
     "metadata": {},
     "output_type": "execute_result"
    }
   ],
   "source": [
    "d.sort(reverse=True)  #Descending order sort\n",
    "d"
   ]
  },
  {
   "cell_type": "code",
   "execution_count": 89,
   "id": "0c2595b3",
   "metadata": {},
   "outputs": [
    {
     "data": {
      "text/plain": [
       "[9, 5, 4, 2, 1]"
      ]
     },
     "execution_count": 89,
     "metadata": {},
     "output_type": "execute_result"
    }
   ],
   "source": [
    "#sorting in descending order with changing the order of elements in original list.\n",
    "sorted(d,reverse=True)"
   ]
  },
  {
   "cell_type": "code",
   "execution_count": 90,
   "id": "ac8f775e",
   "metadata": {},
   "outputs": [
    {
     "data": {
      "text/plain": [
       "[]"
      ]
     },
     "execution_count": 90,
     "metadata": {},
     "output_type": "execute_result"
    }
   ],
   "source": [
    "#To remove all elements in list\n",
    "d.clear()\n",
    "d"
   ]
  },
  {
   "cell_type": "code",
   "execution_count": 91,
   "id": "56f2853d",
   "metadata": {},
   "outputs": [
    {
     "data": {
      "text/plain": [
       "1"
      ]
     },
     "execution_count": 91,
     "metadata": {},
     "output_type": "execute_result"
    }
   ],
   "source": [
    "#always gives index of first occurring value\n",
    "l2=[1,2,3,1,2,4]\n",
    "l2.index(2)"
   ]
  },
  {
   "cell_type": "code",
   "execution_count": 92,
   "id": "97e37be5",
   "metadata": {},
   "outputs": [
    {
     "data": {
      "text/plain": [
       "4"
      ]
     },
     "execution_count": 92,
     "metadata": {},
     "output_type": "execute_result"
    }
   ],
   "source": [
    "#starts from 2 index\n",
    "l2=[1,2,3,1,2,4]\n",
    "l2.index(2,2)#value and starting index is given"
   ]
  },
  {
   "cell_type": "code",
   "execution_count": 93,
   "id": "a875480f",
   "metadata": {},
   "outputs": [
    {
     "data": {
      "text/plain": [
       "2"
      ]
     },
     "execution_count": 93,
     "metadata": {},
     "output_type": "execute_result"
    }
   ],
   "source": [
    "#count the occurrence of elements\n",
    "l2=[1,2,3,1,2,4]\n",
    "l2.count(2)"
   ]
  },
  {
   "cell_type": "code",
   "execution_count": 94,
   "id": "5cc82b51",
   "metadata": {},
   "outputs": [
    {
     "data": {
      "text/plain": [
       "True"
      ]
     },
     "execution_count": 94,
     "metadata": {},
     "output_type": "execute_result"
    }
   ],
   "source": [
    "a=[2,4,6]\n",
    "b=a\n",
    "a is b"
   ]
  },
  {
   "cell_type": "code",
   "execution_count": null,
   "id": "31cf0fe0",
   "metadata": {},
   "outputs": [
    {
     "name": "stdout",
     "output_type": "stream",
     "text": [
      "['ball', 3, 4, 5]\n",
      "['apple', 3, 5, 2]\n"
     ]
    }
   ],
   "source": [
    "#slicing\n",
    "a=[\"apple\", \"ball\", 3, 4, 5, \"cat\", 2]\n",
    "print(a[1:5])\n",
    "print(a[0:7:2])\n",
    "#a[start_index:end_index:step]"
   ]
  },
  {
   "cell_type": "code",
   "execution_count": 99,
   "id": "dcf4ef5d",
   "metadata": {},
   "outputs": [
    {
     "name": "stdout",
     "output_type": "stream",
     "text": [
      "[2, 'cat', 5, 4, 3, 'ball', 'apple']\n",
      "[2, 'cat', 5, 4]\n"
     ]
    }
   ],
   "source": [
    "a=[\"apple\", \"ball\", 3, 4, 5, \"cat\", 2]\n",
    "print(a[::-1])\n",
    "print(a[-1:-5:-1])"
   ]
  }
 ],
 "metadata": {
  "kernelspec": {
   "display_name": "csit82",
   "language": "python",
   "name": "python3"
  },
  "language_info": {
   "codemirror_mode": {
    "name": "ipython",
    "version": 3
   },
   "file_extension": ".py",
   "mimetype": "text/x-python",
   "name": "python",
   "nbconvert_exporter": "python",
   "pygments_lexer": "ipython3",
   "version": "3.12.11"
  }
 },
 "nbformat": 4,
 "nbformat_minor": 5
}
