{
 "cells": [
  {
   "cell_type": "markdown",
   "id": "63c254c4",
   "metadata": {},
   "source": [
    "###OOP\n",
    "```python\n",
    "class ClassNameHere:\n",
    "    def __init__(self,age):\n",
    "        self.age=age\n",
    "        #constructor statement here\n",
    "\n",
    "    def method1(self):\n",
    "        #method1 statement here.\n",
    "\n",
    "#object creation\n",
    "obj_name=ClassNameHere(age=40)\n",
    "\n",
    "#access atribute using object (outside class)\\\n",
    "obj_name.age\n",
    "\n",
    "#method call outside the class\n",
    "obj_name.method1()\n",
    "\n",
    "```"
   ]
  },
  {
   "cell_type": "code",
   "execution_count": 2,
   "id": "b8b93665",
   "metadata": {},
   "outputs": [
    {
     "data": {
      "text/plain": [
       "'ABC DEF'"
      ]
     },
     "execution_count": 2,
     "metadata": {},
     "output_type": "execute_result"
    }
   ],
   "source": [
    "\"ABC\"+ \" \" +\"DEF\""
   ]
  },
  {
   "cell_type": "code",
   "execution_count": null,
   "id": "488ec6a0",
   "metadata": {},
   "outputs": [
    {
     "data": {
      "text/plain": [
       "'famous person is Bisesh Pandey'"
      ]
     },
     "execution_count": 11,
     "metadata": {},
     "output_type": "execute_result"
    }
   ],
   "source": [
    "class Person(object):\n",
    "    def __init__(self,f_name,l_name,age):\n",
    "        self.name=f_name+\" \"+l_name\n",
    "        self.age=age\n",
    "\n",
    "    def get_details(self):\n",
    "        self.get_age()\n",
    "        return f\"famous person is {self.name}\"\n",
    "    \n",
    "    def get_age(self):\n",
    "        return f\"Age is {self.age}\"\n",
    "\n",
    "    \n",
    "p1=Person(\"Bisesh\",\"Pandey\",23)\n",
    "p1.get_details()"
   ]
  },
  {
   "cell_type": "code",
   "execution_count": 10,
   "id": "cdf2cec3",
   "metadata": {},
   "outputs": [
    {
     "data": {
      "text/plain": [
       "'famous person is Ramu kaka'"
      ]
     },
     "execution_count": 10,
     "metadata": {},
     "output_type": "execute_result"
    }
   ],
   "source": [
    "p2=Person(\"Ramu\",\"kaka\",23)\n",
    "p2.get_details()"
   ]
  }
 ],
 "metadata": {
  "kernelspec": {
   "display_name": "csit82",
   "language": "python",
   "name": "python3"
  },
  "language_info": {
   "codemirror_mode": {
    "name": "ipython",
    "version": 3
   },
   "file_extension": ".py",
   "mimetype": "text/x-python",
   "name": "python",
   "nbconvert_exporter": "python",
   "pygments_lexer": "ipython3",
   "version": "3.12.11"
  }
 },
 "nbformat": 4,
 "nbformat_minor": 5
}
