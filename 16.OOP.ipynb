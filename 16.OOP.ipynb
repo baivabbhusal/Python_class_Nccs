{
 "cells": [
  {
   "cell_type": "markdown",
   "id": "63c254c4",
   "metadata": {},
   "source": [
    "###OOP\n",
    "```python\n",
    "class ClassNameHere:\n",
    "    def __init__(self,age):\n",
    "        self.age=age\n",
    "        #constructor statement here\n",
    "\n",
    "    def method1(self):\n",
    "        #method1 statement here.\n",
    "\n",
    "#object creation\n",
    "obj_name=ClassNameHere(age=40)\n",
    "\n",
    "#access atribute using object (outside class)\\\n",
    "obj_name.age\n",
    "\n",
    "#method call outside the class\n",
    "obj_name.method1()\n",
    "\n",
    "```"
   ]
  },
  {
   "cell_type": "code",
   "execution_count": 2,
   "id": "b8b93665",
   "metadata": {},
   "outputs": [
    {
     "data": {
      "text/plain": [
       "'ABC DEF'"
      ]
     },
     "execution_count": 2,
     "metadata": {},
     "output_type": "execute_result"
    }
   ],
   "source": [
    "\"ABC\"+ \" \" +\"DEF\""
   ]
  },
  {
   "cell_type": "code",
   "execution_count": null,
   "id": "d0977227",
   "metadata": {},
   "outputs": [],
   "source": []
  },
  {
   "cell_type": "code",
   "execution_count": 13,
   "id": "488ec6a0",
   "metadata": {},
   "outputs": [
    {
     "data": {
      "text/plain": [
       "'famous person is Bisesh Pandey.Age is 23'"
      ]
     },
     "execution_count": 13,
     "metadata": {},
     "output_type": "execute_result"
    }
   ],
   "source": [
    "class Person(object):\n",
    "    def __init__(self,f_name,l_name,age):\n",
    "        self.name=f_name+\" \"+l_name\n",
    "        self.age=age\n",
    "\n",
    "    def get_details(self):\n",
    "        age_message=self.get_age()\n",
    "        return f\"famous person is {self.name}.{age_message}\"\n",
    "    \n",
    "    def get_age(self):\n",
    "        return f\"Age is {self.age}\"\n",
    "\n",
    "    \n",
    "p1=Person(\"Bisesh\",\"Pandey\",23)\n",
    "p1.get_details()"
   ]
  },
  {
   "cell_type": "code",
   "execution_count": 10,
   "id": "cdf2cec3",
   "metadata": {},
   "outputs": [
    {
     "data": {
      "text/plain": [
       "'famous person is Ramu kaka'"
      ]
     },
     "execution_count": 10,
     "metadata": {},
     "output_type": "execute_result"
    }
   ],
   "source": [
    "p2=Person(\"Ramu\",\"kaka\",23)\n",
    "p2.get_details()"
   ]
  },
  {
   "cell_type": "code",
   "execution_count": 14,
   "id": "a7b16abe",
   "metadata": {},
   "outputs": [
    {
     "data": {
      "text/plain": [
       "23"
      ]
     },
     "execution_count": 14,
     "metadata": {},
     "output_type": "execute_result"
    }
   ],
   "source": [
    "p2.age"
   ]
  },
  {
   "cell_type": "code",
   "execution_count": 15,
   "id": "6fe9edc6",
   "metadata": {},
   "outputs": [
    {
     "data": {
      "text/plain": [
       "'Bisesh Pandey'"
      ]
     },
     "execution_count": 15,
     "metadata": {},
     "output_type": "execute_result"
    }
   ],
   "source": [
    "p1.name"
   ]
  },
  {
   "cell_type": "code",
   "execution_count": null,
   "id": "635013d2",
   "metadata": {},
   "outputs": [],
   "source": [
    "class Person(object):\n",
    "    def __init__(self,f_name,l_name,age):\n",
    "        self.name=f_name+\" \"+l_name\n",
    "        self.age=age\n",
    "\n",
    "    def get_details(self):\n",
    "        # age_message=self.get_age()\n",
    "        return f\"famous person is {self.name}\"\n",
    "    \n",
    "    def get(self):\n",
    "        return \"Get method is called.\"\n",
    "\n",
    "class Employee(Person):\n",
    "    def __init__(self,id,salary,f_name,l_name,age):\n",
    "        self.id=id\n",
    "        self.salary=salary\n",
    "        super().__init__(f_name,l_name,age)\n",
    "        #Person.__init__(f_name.l_name,age) in multiple class we use this\n",
    "\n",
    "    def get_salary(self):\n",
    "        return f\"Id {self.id} has salary: {self.salary}\"\n",
    "       \n"
   ]
  },
  {
   "cell_type": "code",
   "execution_count": 33,
   "id": "57e6bba8",
   "metadata": {},
   "outputs": [],
   "source": [
    "emp1=Employee(11,200000,\"Cabinet\",\"shrestha\",53)"
   ]
  },
  {
   "cell_type": "code",
   "execution_count": null,
   "id": "3005d8cc",
   "metadata": {},
   "outputs": [
    {
     "data": {
      "text/plain": [
       "'famous person is Cabinet shrestha'"
      ]
     },
     "execution_count": 34,
     "metadata": {},
     "output_type": "execute_result"
    }
   ],
   "source": [
    "# calling method of base class using derived class object.\n",
    "# it uses attribute initialized in base class constructor\n",
    "# therefore base class constructor must be installed\n",
    "#from derived class constructor to execute \n",
    "emp1.get_details()"
   ]
  },
  {
   "cell_type": "code",
   "execution_count": 35,
   "id": "aba5b6c5",
   "metadata": {},
   "outputs": [
    {
     "data": {
      "text/plain": [
       "'Id 11 has salary: 200000'"
      ]
     },
     "execution_count": 35,
     "metadata": {},
     "output_type": "execute_result"
    }
   ],
   "source": [
    "emp1.get_salary()"
   ]
  },
  {
   "cell_type": "code",
   "execution_count": 36,
   "id": "e232a3e8",
   "metadata": {},
   "outputs": [
    {
     "data": {
      "text/plain": [
       "'Get method is called.'"
      ]
     },
     "execution_count": 36,
     "metadata": {},
     "output_type": "execute_result"
    }
   ],
   "source": [
    "#Base class\n",
    "emp1.get()"
   ]
  },
  {
   "cell_type": "code",
   "execution_count": null,
   "id": "830d835a",
   "metadata": {},
   "outputs": [
    {
     "data": {
      "text/plain": [
       "'Subject:Mausam Dhakal teaches computer and has salary 200000'"
      ]
     },
     "execution_count": 40,
     "metadata": {},
     "output_type": "execute_result"
    }
   ],
   "source": [
    "class Person2(object):\n",
    "    def __init__(self,f_name,l_name,age):\n",
    "        self.name=f_name+\" \"+l_name\n",
    "        self.age=age\n",
    "\n",
    "    def get_details(self):\n",
    "        # age_message=self.get_age()\n",
    "        return f\"famous person is {self.name}\"\n",
    "    \n",
    "    def get(self):\n",
    "        return \"Get method is called.\"\n",
    "\n",
    "class Employee2:\n",
    "    def __init__(self,id,salary):\n",
    "        self.id=id\n",
    "        self.salary=salary\n",
    "\n",
    "    def get_salary(self):\n",
    "        return f\"Id {self.id} has salary: {self.salary}\"\n",
    "    \n",
    "class Teacher(Person2,Employee2):\n",
    "    def __init__(self,subject,f_name,l_name,age,id,salary):\n",
    "        self.subject=subject\n",
    "        Person2.__init__(self,f_name,l_name,age)\n",
    "        Employee2.__init__(self,id,salary)\n",
    "    \n",
    "    def get_teacher_details(self):\n",
    "        return f\"{self.name} teaches {self.subject} and has salary {self.salary}\"\n",
    "\n",
    "t1=Teacher(\"computer\",\"Mausam\",\"Dhakal\",32,\"ID001\",200000)\n",
    "t1.get_teacher_details()\n"
   ]
  }
 ],
 "metadata": {
  "kernelspec": {
   "display_name": "csit82",
   "language": "python",
   "name": "python3"
  },
  "language_info": {
   "codemirror_mode": {
    "name": "ipython",
    "version": 3
   },
   "file_extension": ".py",
   "mimetype": "text/x-python",
   "name": "python",
   "nbconvert_exporter": "python",
   "pygments_lexer": "ipython3",
   "version": "3.12.11"
  }
 },
 "nbformat": 4,
 "nbformat_minor": 5
}
