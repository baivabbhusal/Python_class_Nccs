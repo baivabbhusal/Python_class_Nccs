{
 "cells": [
  {
   "cell_type": "markdown",
   "id": "f259b2eb",
   "metadata": {},
   "source": [
    "# Set"
   ]
  },
  {
   "cell_type": "code",
   "execution_count": 1,
   "id": "2651644c",
   "metadata": {},
   "outputs": [
    {
     "name": "stdout",
     "output_type": "stream",
     "text": [
      "s1=set()\n",
      "type(s1)=<class 'set'>\n"
     ]
    }
   ],
   "source": [
    "s1=set()\n",
    "print(f\"{s1=}\")\n",
    "print(f\"{type(s1)=}\")"
   ]
  },
  {
   "cell_type": "code",
   "execution_count": 3,
   "id": "9c73534e",
   "metadata": {},
   "outputs": [
    {
     "name": "stdout",
     "output_type": "stream",
     "text": [
      "s2={1, 2, 3, 4}\n",
      "type(s2)=<class 'set'>\n",
      "s3={8, 9, 6, 7}\n",
      "type(s3)=<class 'set'>\n"
     ]
    }
   ],
   "source": [
    "s2={1,2,3,4}\n",
    "s3={6,7,8,9}\n",
    "print(f\"{s2=}\")\n",
    "print(f\"{type(s2)=}\")\n",
    "print(f\"{s3=}\")\n",
    "print(f\"{type(s3)=}\")"
   ]
  },
  {
   "cell_type": "markdown",
   "id": "aa7252cc",
   "metadata": {},
   "source": [
    "# Adding element in set"
   ]
  },
  {
   "cell_type": "code",
   "execution_count": 4,
   "id": "ed67981a",
   "metadata": {},
   "outputs": [
    {
     "data": {
      "text/plain": [
       "{10, 100, 101, 110, 120, 210}"
      ]
     },
     "execution_count": 4,
     "metadata": {},
     "output_type": "execute_result"
    }
   ],
   "source": [
    "s1.add(10)\n",
    "s1.add(100)\n",
    "s1.add(101)\n",
    "s1.add(110)\n",
    "s1.add(120)\n",
    "s1.add(210)\n",
    "s1"
   ]
  },
  {
   "cell_type": "markdown",
   "id": "e83a3ba3",
   "metadata": {},
   "source": [
    "# Removing elements from the set"
   ]
  },
  {
   "cell_type": "code",
   "execution_count": 5,
   "id": "b283eb2b",
   "metadata": {},
   "outputs": [],
   "source": [
    "s1.remove(100)"
   ]
  },
  {
   "cell_type": "code",
   "execution_count": 6,
   "id": "157c0d50",
   "metadata": {},
   "outputs": [
    {
     "data": {
      "text/plain": [
       "{10, 101, 110, 120, 210}"
      ]
     },
     "execution_count": 6,
     "metadata": {},
     "output_type": "execute_result"
    }
   ],
   "source": [
    "s1"
   ]
  },
  {
   "cell_type": "code",
   "execution_count": 8,
   "id": "a4adf769",
   "metadata": {},
   "outputs": [
    {
     "data": {
      "text/plain": [
       "{10, 101, 110, 210}"
      ]
     },
     "execution_count": 8,
     "metadata": {},
     "output_type": "execute_result"
    }
   ],
   "source": [
    "s1.discard(120)\n",
    "s1"
   ]
  },
  {
   "cell_type": "code",
   "execution_count": null,
   "id": "3c2c3bbc",
   "metadata": {},
   "outputs": [
    {
     "data": {
      "text/plain": [
       "{10, 101, 110, 210}"
      ]
     },
     "execution_count": 9,
     "metadata": {},
     "output_type": "execute_result"
    }
   ],
   "source": [
    "s1.discard(500)  #It doesn't give error if element is not in set.\n",
    "s1"
   ]
  },
  {
   "cell_type": "code",
   "execution_count": 11,
   "id": "6d4d276e",
   "metadata": {},
   "outputs": [
    {
     "data": {
      "text/plain": [
       "1"
      ]
     },
     "execution_count": 11,
     "metadata": {},
     "output_type": "execute_result"
    }
   ],
   "source": [
    "s1={1,2,3,4,6,8,98}\n",
    "removed_value=s1.pop()\n",
    "removed_value"
   ]
  },
  {
   "cell_type": "markdown",
   "id": "a6adf6ab",
   "metadata": {},
   "source": [
    "# Union and Intersection"
   ]
  },
  {
   "cell_type": "code",
   "execution_count": 17,
   "id": "3917d612",
   "metadata": {},
   "outputs": [],
   "source": [
    "s2={1,2,3,4}\n",
    "s3={6,3,1,7,8,9}"
   ]
  },
  {
   "cell_type": "code",
   "execution_count": 18,
   "id": "9ca74af7",
   "metadata": {},
   "outputs": [
    {
     "data": {
      "text/plain": [
       "{1, 2, 3, 4, 6, 7, 8, 9}"
      ]
     },
     "execution_count": 18,
     "metadata": {},
     "output_type": "execute_result"
    }
   ],
   "source": [
    "s2.union(s3)"
   ]
  },
  {
   "cell_type": "code",
   "execution_count": 19,
   "id": "5ec30423",
   "metadata": {},
   "outputs": [
    {
     "data": {
      "text/plain": [
       "{1, 3}"
      ]
     },
     "execution_count": 19,
     "metadata": {},
     "output_type": "execute_result"
    }
   ],
   "source": [
    "s2.intersection(s3)"
   ]
  },
  {
   "cell_type": "code",
   "execution_count": null,
   "id": "6e34be75",
   "metadata": {},
   "outputs": [],
   "source": [
    "s2.intersection_update(s3) #update s2 to intersection of s2 and s3"
   ]
  },
  {
   "cell_type": "code",
   "execution_count": 21,
   "id": "74d9746a",
   "metadata": {},
   "outputs": [
    {
     "data": {
      "text/plain": [
       "({1, 3}, {1, 3, 6, 7, 8, 9})"
      ]
     },
     "execution_count": 21,
     "metadata": {},
     "output_type": "execute_result"
    }
   ],
   "source": [
    "s2,s3"
   ]
  },
  {
   "cell_type": "markdown",
   "id": "d76a48c1",
   "metadata": {},
   "source": [
    "# Differenece"
   ]
  },
  {
   "cell_type": "code",
   "execution_count": 22,
   "id": "3dce4b7f",
   "metadata": {},
   "outputs": [
    {
     "data": {
      "text/plain": [
       "{7, 8}"
      ]
     },
     "execution_count": 22,
     "metadata": {},
     "output_type": "execute_result"
    }
   ],
   "source": [
    "s2={1,2,3,4,6,9}\n",
    "s3={6,7,8,9}\n",
    "s3.difference(s2)"
   ]
  },
  {
   "cell_type": "markdown",
   "id": "326f3da0",
   "metadata": {},
   "source": [
    "### Symmetric Difference"
   ]
  },
  {
   "cell_type": "code",
   "execution_count": 23,
   "id": "05e01087",
   "metadata": {},
   "outputs": [
    {
     "data": {
      "text/plain": [
       "({1, 2, 3, 4, 7, 8}, {6, 7, 8, 9})"
      ]
     },
     "execution_count": 23,
     "metadata": {},
     "output_type": "execute_result"
    }
   ],
   "source": [
    "s2.symmetric_difference_update(s3)\n",
    "s2,s3"
   ]
  },
  {
   "cell_type": "markdown",
   "id": "e7961c7e",
   "metadata": {},
   "source": [
    "### Conditional Statement"
   ]
  },
  {
   "cell_type": "markdown",
   "id": "eb2f7529",
   "metadata": {},
   "source": [
    "```python\n",
    "# structure 1\n",
    "if condition:\n",
    "    # if-block-statement\n",
    "\n",
    "# Structure 2\n",
    "if condition:\n",
    "    # if-block-statement\n",
    "else:\n",
    "   # else-block-statement\n",
    "\n",
    "# Structure 3\n",
    "if condition:\n",
    "    # if-block-statement\n",
    "elif:\n",
    "   # elif-block-statement\n",
    "else:\n",
    "   # else-block-statement\n",
    "```"
   ]
  },
  {
   "cell_type": "code",
   "execution_count": 24,
   "id": "42e62b1f",
   "metadata": {},
   "outputs": [
    {
     "name": "stdout",
     "output_type": "stream",
     "text": [
      "Value is greater\n"
     ]
    }
   ],
   "source": [
    "value=5\n",
    "if value >4:\n",
    "    print(\"Value is greater\")"
   ]
  },
  {
   "cell_type": "code",
   "execution_count": 27,
   "id": "4d0f3172",
   "metadata": {},
   "outputs": [
    {
     "name": "stdout",
     "output_type": "stream",
     "text": [
      "Value is less then or equal to 4\n"
     ]
    }
   ],
   "source": [
    "value=1\n",
    "if value >4:\n",
    "    print(\"Value is greater\")\n",
    "else:\n",
    "    print(\"Value is less then or equal to 4\")"
   ]
  },
  {
   "cell_type": "code",
   "execution_count": 28,
   "id": "70ad4b8b",
   "metadata": {},
   "outputs": [
    {
     "name": "stdout",
     "output_type": "stream",
     "text": [
      "Value is equal to 4\n"
     ]
    }
   ],
   "source": [
    "value=4\n",
    "if value >4:\n",
    "    print(\"Value is greater\")\n",
    "elif(value==4):\n",
    "    print(\"Value is equal to 4\")\n",
    "else:\n",
    "    print(\"Value is less then or equal to 4\")"
   ]
  },
  {
   "cell_type": "markdown",
   "id": "c47b14f6",
   "metadata": {},
   "source": [
    "### One liner if-else"
   ]
  },
  {
   "cell_type": "code",
   "execution_count": 29,
   "id": "c2ed7fdd",
   "metadata": {},
   "outputs": [
    {
     "name": "stdout",
     "output_type": "stream",
     "text": [
      "lt or eq to 4\n"
     ]
    }
   ],
   "source": [
    "value=1\n",
    "print(\"gt 4\") if value>4 else print(\"lt or eq to 4\")\n"
   ]
  },
  {
   "cell_type": "code",
   "execution_count": 33,
   "id": "ee3bc294",
   "metadata": {},
   "outputs": [
    {
     "data": {
      "text/plain": [
       "55"
      ]
     },
     "execution_count": 33,
     "metadata": {},
     "output_type": "execute_result"
    }
   ],
   "source": [
    "#multiply by 2 if its a even number\n",
    "#multiply by 3 if it's a odd number and greater than 10\n",
    "num=11\n",
    "result=num*2 if num % 2 ==0 else (num*3 if num<10 else num*5)\n",
    "result"
   ]
  },
  {
   "cell_type": "code",
   "execution_count": 34,
   "id": "f3e3b57f",
   "metadata": {},
   "outputs": [
    {
     "data": {
      "text/plain": [
       "16"
      ]
     },
     "execution_count": 34,
     "metadata": {},
     "output_type": "execute_result"
    }
   ],
   "source": [
    "#multiply by 2 if its a even number\n",
    "#multiply by 3 if it's a odd number and greater than 10\n",
    "num=8\n",
    "result=num*2 if num % 2 ==0 else (num*3 if num<10 else num*5)\n",
    "result"
   ]
  },
  {
   "cell_type": "code",
   "execution_count": 35,
   "id": "e61ad482",
   "metadata": {},
   "outputs": [
    {
     "data": {
      "text/plain": [
       "27"
      ]
     },
     "execution_count": 35,
     "metadata": {},
     "output_type": "execute_result"
    }
   ],
   "source": [
    "#multiply by 2 if its a even number\n",
    "#multiply by 3 if it's a odd number and greater than 10\n",
    "num=9\n",
    "result=num*2 if num % 2 ==0 else (num*3 if num<10 else num*5)\n",
    "result"
   ]
  },
  {
   "cell_type": "markdown",
   "id": "521eeb87",
   "metadata": {},
   "source": [
    "### Switch\n",
    "```python\n",
    "x=1\n",
    "exp=x**2+1\n",
    "match exp:\n",
    "    case 2:\n",
    "        print(\"It's X value is 1\")\n",
    "    case 5:\n",
    "        print(\"It's x value is 2\")\n",
    "    case _:\n",
    "        print(\"Default case\")\n",
    "```"
   ]
  },
  {
   "cell_type": "code",
   "execution_count": 38,
   "id": "fce64846",
   "metadata": {},
   "outputs": [
    {
     "name": "stdout",
     "output_type": "stream",
     "text": [
      "It's x value is 2\n"
     ]
    }
   ],
   "source": [
    "x=2\n",
    "exp=x**2+1\n",
    "match exp:\n",
    "    case 2:\n",
    "        print(\"It's x value is 1\")\n",
    "    case 5:\n",
    "        print(\"It's x value is 2\")\n",
    "    case _:\n",
    "        print(\"Default case\")"
   ]
  },
  {
   "cell_type": "markdown",
   "id": "f9535dcc",
   "metadata": {},
   "source": [
    "### Unpacking of Tuples or List"
   ]
  },
  {
   "cell_type": "code",
   "execution_count": 39,
   "id": "d48785ac",
   "metadata": {},
   "outputs": [
    {
     "name": "stdout",
     "output_type": "stream",
     "text": [
      "(1, 2)\n",
      "<class 'tuple'>\n"
     ]
    }
   ],
   "source": [
    "a=1,2\n",
    "print(a)\n",
    "print(type(a))"
   ]
  },
  {
   "cell_type": "code",
   "execution_count": 40,
   "id": "88bfdd24",
   "metadata": {},
   "outputs": [
    {
     "name": "stdout",
     "output_type": "stream",
     "text": [
      "a: 1 <class 'int'>\n",
      "b: 2 <class 'int'>\n",
      "c: 3 <class 'int'>\n"
     ]
    }
   ],
   "source": [
    "a,b,c=(1,2,3)\n",
    "print(\"a:\",a,type(a))\n",
    "print(\"b:\",b,type(b))\n",
    "print(\"c:\",c,type(c))"
   ]
  },
  {
   "cell_type": "code",
   "execution_count": 41,
   "id": "2a0cefd0",
   "metadata": {},
   "outputs": [
    {
     "name": "stdout",
     "output_type": "stream",
     "text": [
      "a: 1 <class 'int'>\n",
      "b: 2 <class 'int'>\n",
      "c: 3 <class 'int'>\n"
     ]
    }
   ],
   "source": [
    "a,b,c=[1,2,3]\n",
    "print(\"a:\",a,type(a))\n",
    "print(\"b:\",b,type(b))\n",
    "print(\"c:\",c,type(c))"
   ]
  },
  {
   "cell_type": "code",
   "execution_count": 44,
   "id": "dde2f1ac",
   "metadata": {},
   "outputs": [
    {
     "name": "stdout",
     "output_type": "stream",
     "text": [
      "a: 1 <class 'int'>\n",
      "remaining: [2, 3] <class 'list'>\n",
      "b: 4 <class 'int'>\n",
      "c: 5 <class 'int'>\n"
     ]
    }
   ],
   "source": [
    "a,*remaining,b,c=(1,2,3,4,5)\n",
    "print(\"a:\",a,type(a))\n",
    "print(\"remaining:\",remaining,type(remaining))\n",
    "print(\"b:\",b,type(b))\n",
    "print(\"c:\",c,type(c))"
   ]
  }
 ],
 "metadata": {
  "kernelspec": {
   "display_name": "csit82",
   "language": "python",
   "name": "python3"
  },
  "language_info": {
   "codemirror_mode": {
    "name": "ipython",
    "version": 3
   },
   "file_extension": ".py",
   "mimetype": "text/x-python",
   "name": "python",
   "nbconvert_exporter": "python",
   "pygments_lexer": "ipython3",
   "version": "3.12.11"
  }
 },
 "nbformat": 4,
 "nbformat_minor": 5
}
