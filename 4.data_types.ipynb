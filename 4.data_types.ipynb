{
 "cells": [
  {
   "cell_type": "code",
   "execution_count": 4,
   "id": "e528b6d3",
   "metadata": {},
   "outputs": [
    {
     "name": "stdout",
     "output_type": "stream",
     "text": [
      "apple ball cat dog\n",
      "<class 'str'> <class 'str'> <class 'str'> <class 'str'>\n"
     ]
    }
   ],
   "source": [
    "e=\"ape\"\n",
    "b='ball'\n",
    "c='''cat'''\n",
    "d=\"\"\"dog\"\"\" \n",
    "print(a, b, c, d)\n",
    "print(type(e), type(b), type(c), type(d))"
   ]
  },
  {
   "cell_type": "markdown",
   "id": "ee670ebe",
   "metadata": {},
   "source": [
    "# string"
   ]
  },
  {
   "cell_type": "code",
   "execution_count": 5,
   "id": "9b33847c",
   "metadata": {},
   "outputs": [],
   "source": [
    "f=\"this is a class\"\n"
   ]
  },
  {
   "cell_type": "code",
   "execution_count": 6,
   "id": "6290114c",
   "metadata": {},
   "outputs": [
    {
     "data": {
      "text/plain": [
       "'THIS IS A CLASS'"
      ]
     },
     "execution_count": 6,
     "metadata": {},
     "output_type": "execute_result"
    }
   ],
   "source": [
    "f.upper()  # Convert to uppercase"
   ]
  },
  {
   "cell_type": "code",
   "execution_count": 9,
   "id": "cccf4029",
   "metadata": {},
   "outputs": [
    {
     "data": {
      "text/plain": [
       "'This Is A Class'"
      ]
     },
     "execution_count": 9,
     "metadata": {},
     "output_type": "execute_result"
    }
   ],
   "source": [
    "f.title()  # Convert to title case and then to lowercase"
   ]
  },
  {
   "cell_type": "code",
   "execution_count": 10,
   "id": "a6e6ee81",
   "metadata": {},
   "outputs": [
    {
     "data": {
      "text/plain": [
       "'this is a class'"
      ]
     },
     "execution_count": 10,
     "metadata": {},
     "output_type": "execute_result"
    }
   ],
   "source": [
    "f.title().lower()"
   ]
  },
  {
   "cell_type": "code",
   "execution_count": 11,
   "id": "4e9f1ce4",
   "metadata": {},
   "outputs": [
    {
     "data": {
      "text/plain": [
       "'This is a class'"
      ]
     },
     "execution_count": 11,
     "metadata": {},
     "output_type": "execute_result"
    }
   ],
   "source": [
    "f.title().lower().capitalize()"
   ]
  },
  {
   "cell_type": "code",
   "execution_count": null,
   "id": "d1145e3a",
   "metadata": {},
   "outputs": [
    {
     "data": {
      "text/plain": [
       "' this is a CSIT extRA class '"
      ]
     },
     "execution_count": 15,
     "metadata": {},
     "output_type": "execute_result"
    }
   ],
   "source": [
    "g=\" this is a CSIT extRA class \"\n",
    "g"
   ]
  },
  {
   "cell_type": "code",
   "execution_count": 17,
   "id": "1e84cbca",
   "metadata": {},
   "outputs": [
    {
     "data": {
      "text/plain": [
       "'this is a CSIT extRA class'"
      ]
     },
     "execution_count": 17,
     "metadata": {},
     "output_type": "execute_result"
    }
   ],
   "source": [
    "g.strip()  # Remove leading and trailing whitespace "
   ]
  },
  {
   "cell_type": "code",
   "execution_count": 18,
   "id": "93320ba2",
   "metadata": {},
   "outputs": [
    {
     "data": {
      "text/plain": [
       "'this is a CSIT extRA class '"
      ]
     },
     "execution_count": 18,
     "metadata": {},
     "output_type": "execute_result"
    }
   ],
   "source": [
    "g.lstrip()  # Remove leading and trailing whitespace"
   ]
  },
  {
   "cell_type": "code",
   "execution_count": 20,
   "id": "ef48b70e",
   "metadata": {},
   "outputs": [
    {
     "data": {
      "text/plain": [
       "\"Today i came to college by bus.I am attending python class.it's a good day.\""
      ]
     },
     "execution_count": 20,
     "metadata": {},
     "output_type": "execute_result"
    }
   ],
   "source": [
    "h='Today i came to college by bus.I am attending python class.it\\'s a good day.'\n",
    "h"
   ]
  },
  {
   "cell_type": "code",
   "execution_count": 26,
   "id": "4da79954",
   "metadata": {},
   "outputs": [
    {
     "data": {
      "text/plain": [
       "['Today i came to college by bus',\n",
       " 'I am attending python class',\n",
       " \"it's a good day\",\n",
       " '']"
      ]
     },
     "execution_count": 26,
     "metadata": {},
     "output_type": "execute_result"
    }
   ],
   "source": [
    "splitted=h.split(\".\")\n",
    "splitted\n"
   ]
  },
  {
   "cell_type": "code",
   "execution_count": 28,
   "id": "ac84822b",
   "metadata": {},
   "outputs": [
    {
     "data": {
      "text/plain": [
       "\"Today i came to college by busI am attending python classit's a good day\""
      ]
     },
     "execution_count": 28,
     "metadata": {},
     "output_type": "execute_result"
    }
   ],
   "source": [
    "\"\".join(splitted)"
   ]
  },
  {
   "cell_type": "code",
   "execution_count": 29,
   "id": "de4f7b4e",
   "metadata": {},
   "outputs": [
    {
     "data": {
      "text/plain": [
       "False"
      ]
     },
     "execution_count": 29,
     "metadata": {},
     "output_type": "execute_result"
    }
   ],
   "source": [
    "c.isupper()  # Check if all characters are uppercase"
   ]
  },
  {
   "cell_type": "code",
   "execution_count": null,
   "id": "197bb7ca",
   "metadata": {},
   "outputs": [
    {
     "data": {
      "text/plain": [
       "True"
      ]
     },
     "execution_count": 35,
     "metadata": {},
     "output_type": "execute_result"
    }
   ],
   "source": [
    "h.startswith(\"Today i\")#can start with T or Today or Today is"
   ]
  },
  {
   "cell_type": "code",
   "execution_count": null,
   "id": "8256f174",
   "metadata": {},
   "outputs": [
    {
     "data": {
      "text/plain": [
       "True"
      ]
     },
     "execution_count": 36,
     "metadata": {},
     "output_type": "execute_result"
    }
   ],
   "source": [
    "h.endswith(\".\")#same can end with .,y.,day, day,"
   ]
  },
  {
   "cell_type": "code",
   "execution_count": null,
   "id": "ad9082a5",
   "metadata": {},
   "outputs": [
    {
     "data": {
      "text/plain": [
       "True"
      ]
     },
     "execution_count": 38,
     "metadata": {},
     "output_type": "execute_result"
    }
   ],
   "source": [
    "h.endswith(\"day.\")  # Check if the string ends with \"day.\""
   ]
  },
  {
   "cell_type": "code",
   "execution_count": 40,
   "id": "3e59ad58",
   "metadata": {},
   "outputs": [
    {
     "data": {
      "text/plain": [
       "2"
      ]
     },
     "execution_count": 40,
     "metadata": {},
     "output_type": "execute_result"
    }
   ],
   "source": [
    "h=\"Hello sir how are you? how u came here?I am fine.Thank you.\"\n",
    "h.count(\"how\")"
   ]
  },
  {
   "cell_type": "code",
   "execution_count": 46,
   "id": "d6c25ba6",
   "metadata": {},
   "outputs": [
    {
     "data": {
      "text/plain": [
       "'o sir'"
      ]
     },
     "execution_count": 46,
     "metadata": {},
     "output_type": "execute_result"
    }
   ],
   "source": [
    "h[4:9]"
   ]
  },
  {
   "cell_type": "code",
   "execution_count": null,
   "id": "cd18a4dc",
   "metadata": {},
   "outputs": [
    {
     "data": {
      "text/plain": [
       "7"
      ]
     },
     "execution_count": 47,
     "metadata": {},
     "output_type": "execute_result"
    }
   ],
   "source": [
    "h.index(\"i\",0)# Find the index of the first occurrence of \"i\" starting from index 0"
   ]
  },
  {
   "cell_type": "markdown",
   "id": "61fd9f7e",
   "metadata": {},
   "source": [
    "String Formatting"
   ]
  },
  {
   "cell_type": "code",
   "execution_count": null,
   "id": "76b67dc3",
   "metadata": {},
   "outputs": [
    {
     "name": "stdout",
     "output_type": "stream",
     "text": [
      "welcome joe\n"
     ]
    }
   ],
   "source": [
    "#fstring\n",
    "name=\"joe\"\n",
    "str1=f\"welcome {name}\"\n",
    "print(str1)"
   ]
  },
  {
   "cell_type": "code",
   "execution_count": null,
   "id": "834db65d",
   "metadata": {},
   "outputs": [
    {
     "data": {
      "text/plain": [
       "'welcome {}'"
      ]
     },
     "execution_count": 6,
     "metadata": {},
     "output_type": "execute_result"
    }
   ],
   "source": [
    "#format method\n",
    "str1=\"welcome {}\"\n",
    "str1"
   ]
  },
  {
   "cell_type": "code",
   "execution_count": 7,
   "id": "bc340133",
   "metadata": {},
   "outputs": [
    {
     "data": {
      "text/plain": [
       "'welcome raju'"
      ]
     },
     "execution_count": 7,
     "metadata": {},
     "output_type": "execute_result"
    }
   ],
   "source": [
    "str1.format(\"raju\")"
   ]
  },
  {
   "cell_type": "code",
   "execution_count": 8,
   "id": "9902ad1b",
   "metadata": {},
   "outputs": [
    {
     "data": {
      "text/plain": [
       "'welcome Bhat its Morning'"
      ]
     },
     "execution_count": 8,
     "metadata": {},
     "output_type": "execute_result"
    }
   ],
   "source": [
    "'welcome {} its {}'.format(\"Bhat\",\"Morning\")"
   ]
  },
  {
   "cell_type": "code",
   "execution_count": 9,
   "id": "340d1fc7",
   "metadata": {},
   "outputs": [
    {
     "data": {
      "text/plain": [
       "'welcome Morning its Bhat'"
      ]
     },
     "execution_count": 9,
     "metadata": {},
     "output_type": "execute_result"
    }
   ],
   "source": [
    "'welcome {1} its {0}'.format(\"Bhat\",\"Morning\")"
   ]
  },
  {
   "cell_type": "code",
   "execution_count": 10,
   "id": "b8603262",
   "metadata": {},
   "outputs": [
    {
     "data": {
      "text/plain": [
       "'welcome Bhat its Morning'"
      ]
     },
     "execution_count": 10,
     "metadata": {},
     "output_type": "execute_result"
    }
   ],
   "source": [
    "'welcome {name} its {time}'.format(name=\"Bhat\",time=\"Morning\")"
   ]
  }
 ],
 "metadata": {
  "kernelspec": {
   "display_name": "csit82",
   "language": "python",
   "name": "python3"
  },
  "language_info": {
   "codemirror_mode": {
    "name": "ipython",
    "version": 3
   },
   "file_extension": ".py",
   "mimetype": "text/x-python",
   "name": "python",
   "nbconvert_exporter": "python",
   "pygments_lexer": "ipython3",
   "version": "3.12.11"
  }
 },
 "nbformat": 4,
 "nbformat_minor": 5
}
