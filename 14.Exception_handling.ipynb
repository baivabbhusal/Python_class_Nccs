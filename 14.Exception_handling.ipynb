{
 "cells": [
  {
   "cell_type": "markdown",
   "id": "ae2eb770",
   "metadata": {},
   "source": [
    "### Exception Handling\n",
    "```python\n",
    "try:\n",
    "    #satement\n",
    "except:\n",
    "   #error message\n",
    "finally:\n",
    "    #runs woth considering if eror has occured or not\n",
    "\n",
    "\n",
    "```"
   ]
  },
  {
   "cell_type": "code",
   "execution_count": 3,
   "id": "7597b41a",
   "metadata": {},
   "outputs": [
    {
     "name": "stdout",
     "output_type": "stream",
     "text": [
      "Error has occured\n",
      "Finally block has been executed\n"
     ]
    }
   ],
   "source": [
    "value=int(input(\"Enter a vlaue:\"))\n",
    "try:\n",
    "    result=100/value\n",
    "    print(f\"{result=}\")\n",
    "except:\n",
    "    print(\"Error has occured\")\n",
    "finally:\n",
    "    print(\"Finally block has been executed\")\n"
   ]
  },
  {
   "cell_type": "code",
   "execution_count": null,
   "id": "0e0228ba",
   "metadata": {},
   "outputs": [],
   "source": [
    "value=int(input(\"Enter a vlaue:\"))\n",
    "try:\n",
    "    result=100/value\n",
    "    print(f\"{result=}\")\n",
    "except:\n",
    "    print(\"Error has occured\")\n",
    "finally:\n",
    "    print(\"Finally block has been executed\")"
   ]
  }
 ],
 "metadata": {
  "kernelspec": {
   "display_name": "csit82",
   "language": "python",
   "name": "python3"
  },
  "language_info": {
   "codemirror_mode": {
    "name": "ipython",
    "version": 3
   },
   "file_extension": ".py",
   "mimetype": "text/x-python",
   "name": "python",
   "nbconvert_exporter": "python",
   "pygments_lexer": "ipython3",
   "version": "3.12.11"
  }
 },
 "nbformat": 4,
 "nbformat_minor": 5
}
