{
 "cells": [
  {
   "cell_type": "markdown",
   "id": "ae2eb770",
   "metadata": {},
   "source": [
    "### Exception Handling\n",
    "```python\n",
    "try:\n",
    "    #satement\n",
    "except:\n",
    "   #error message\n",
    "finally:\n",
    "    #runs woth considering if eror has occured or not\n",
    "\n",
    "\n",
    "```"
   ]
  },
  {
   "cell_type": "code",
   "execution_count": 3,
   "id": "7597b41a",
   "metadata": {},
   "outputs": [
    {
     "name": "stdout",
     "output_type": "stream",
     "text": [
      "Error has occured\n",
      "Finally block has been executed\n"
     ]
    }
   ],
   "source": [
    "value=int(input(\"Enter a vlaue:\"))\n",
    "try:\n",
    "    result=100/value\n",
    "    print(f\"{result=}\")\n",
    "except:\n",
    "    print(\"Error has occured\")\n",
    "finally:\n",
    "    print(\"Finally block has been executed\")\n"
   ]
  },
  {
   "cell_type": "code",
   "execution_count": 5,
   "id": "0e0228ba",
   "metadata": {},
   "outputs": [
    {
     "name": "stdout",
     "output_type": "stream",
     "text": [
      "Error has occured name 'result1' is not defined\n",
      "Finally block has been executed\n"
     ]
    }
   ],
   "source": [
    "# Exception catch all kind of error\n",
    "value=int(input(\"Enter a vlaue:\"))\n",
    "try:\n",
    "    result=100/value\n",
    "    print(f\"{result1=}\")\n",
    "except Exception as e:\n",
    "    print(\"Error has occured\",e)\n",
    "finally:\n",
    "    print(\"Finally block has been executed\")"
   ]
  },
  {
   "cell_type": "code",
   "execution_count": 7,
   "id": "9af4a5ec",
   "metadata": {},
   "outputs": [
    {
     "name": "stdout",
     "output_type": "stream",
     "text": [
      "result=20.0\n",
      "Finally block has been executed\n"
     ]
    }
   ],
   "source": [
    "# To handle specific error eg ZeroDivisionError\n",
    "value=int(input(\"Enter a vlaue:\"))\n",
    "try:\n",
    "    result=100/value\n",
    "    print(f\"{result=}\")\n",
    "except ZeroDivisionError as e:\n",
    "    print(\"Error has occured\",e)\n",
    "finally:\n",
    "    print(\"Finally block has been executed\")"
   ]
  },
  {
   "cell_type": "code",
   "execution_count": 11,
   "id": "7a7056d5",
   "metadata": {},
   "outputs": [
    {
     "name": "stdout",
     "output_type": "stream",
     "text": [
      "result=16.666666666666668\n",
      "Finally block has been executed\n"
     ]
    }
   ],
   "source": [
    "# To handle specific error eg ZeroDivisionError\n",
    "value=int(input(\"Enter a vlaue:\"))\n",
    "try:\n",
    "    result=100/value\n",
    "    print(f\"{result=}\")\n",
    "    # d={\"a\":23}\n",
    "    # d[\"aa\"]\n",
    "except (ZeroDivisionError,NameError) as e:\n",
    "    print(\"Error has occured\",e)\n",
    "finally:\n",
    "    print(\"Finally block has been executed\")"
   ]
  }
 ],
 "metadata": {
  "kernelspec": {
   "display_name": "csit82",
   "language": "python",
   "name": "python3"
  },
  "language_info": {
   "codemirror_mode": {
    "name": "ipython",
    "version": 3
   },
   "file_extension": ".py",
   "mimetype": "text/x-python",
   "name": "python",
   "nbconvert_exporter": "python",
   "pygments_lexer": "ipython3",
   "version": "3.12.11"
  }
 },
 "nbformat": 4,
 "nbformat_minor": 5
}
